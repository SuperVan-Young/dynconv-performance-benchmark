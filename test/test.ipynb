{
 "cells": [
  {
   "cell_type": "code",
   "execution_count": 1,
   "metadata": {},
   "outputs": [
    {
     "name": "stderr",
     "output_type": "stream",
     "text": [
      "/usr/local/lib/python3.8/dist-packages/tqdm/auto.py:22: TqdmWarning: IProgress not found. Please update jupyter and ipywidgets. See https://ipywidgets.readthedocs.io/en/stable/user_install.html\n",
      "  from .autonotebook import tqdm as notebook_tqdm\n"
     ]
    }
   ],
   "source": [
    "import sys\n",
    "sys.path.append(\"..\")\n",
    "import numpy as np\n",
    "import os\n",
    "from functools import reduce\n",
    "import json\n",
    "\n",
    "from layers import *\n",
    "from blocks import *\n",
    "from utils import *"
   ]
  },
  {
   "cell_type": "code",
   "execution_count": 5,
   "metadata": {},
   "outputs": [
    {
     "name": "stderr",
     "output_type": "stream",
     "text": [
      "scatter_add: 100%|██████████| 7/7 [01:30<00:00, 12.95s/it]\n"
     ]
    },
    {
     "name": "stdout",
     "output_type": "stream",
     "text": [
      "All layers in TVMBlockEvaluator are autotuned.\n"
     ]
    }
   ],
   "source": [
    "# test tvm block evaluator on multiple points\n",
    "logpath = \"blockResult.json\"\n",
    "\n",
    "def run_tvm_block(**kwargs):\n",
    "    tvm_block = TVMBlockEvaluator(**kwargs, n_trial=100) # faster\n",
    "    tvm_block.setup()\n",
    "    tvm_block.autotune()\n",
    "    tvm_block.build()\n",
    "    return tvm_block.evaluate(verbose=True)\n",
    "\n",
    "sampler = SearchSpaceSampler()\n",
    "for i in range(10):\n",
    "    block_setting = sampler.get_block_setting()\n",
    "    for j in range(3):\n",
    "        sparsity_setting = sampler.get_sparsity_setting(block_setting)\n",
    "\n",
    "        res_sparse = run_tvm_block(mode=\"sparse\", **block_setting, **sparsity_setting)\n",
    "        res_dense = run_tvm_block(mode=\"dense\", **block_setting, **sparsity_setting)\n",
    "\n",
    "        sparse_total = reduce(lambda x, y: x+y, res_sparse.values())\n",
    "        dense_total = reduce(lambda x, y: x+y, res_dense.values())\n",
    "\n",
    "        res_sparse = {k: f\"{v / sparse_total:.4%}\" for k, v in res_sparse.items()}\n",
    "        res_dense = {k: f\"{v / dense_total:.4%}\" for k, v in res_sparse.items()}\n",
    "\n",
    "        record = {\n",
    "            \"setting\": [*block_setting.values(), *sparsity_setting.values()],\n",
    "            \"sparse_total\": f\"{sparse_total*1000:.4f}ms\",\n",
    "            \"dense_total\": f\"{dense_total*1000:.4f}ms\",\n",
    "            \"sparse_detail\": res_sparse,\n",
    "            \"dense_detail\": res_dense,\n",
    "        }\n",
    "\n",
    "        with open(logpath, \"a+\") as f:\n",
    "            f.write(json.dumps(record) + \"\\n\")\n",
    "        "
   ]
  },
  {
   "cell_type": "code",
   "execution_count": 2,
   "metadata": {},
   "outputs": [
    {
     "name": "stderr",
     "output_type": "stream",
     "text": [
      "maskconv1:   0%|          | 0/7 [00:00<?, ?it/s]/usr/local/lib/python3.8/dist-packages/xgboost/compat.py:36: FutureWarning: pandas.Int64Index is deprecated and will be removed from pandas in a future version. Use pandas.Index with the appropriate dtype instead.\n",
      "  from pandas import MultiIndex, Int64Index\n",
      "scatter_add: 100%|██████████| 7/7 [01:58<00:00, 16.98s/it]\n"
     ]
    },
    {
     "name": "stdout",
     "output_type": "stream",
     "text": [
      "All layers in TVMBlockEvaluator are autotuned.\n"
     ]
    },
    {
     "data": {
      "text/plain": [
       "0.0024408402700000003"
      ]
     },
     "execution_count": 2,
     "metadata": {},
     "output_type": "execute_result"
    }
   ],
   "source": [
    "# test tvm block evaluator\n",
    "tvm_sparse_block = TVMBlockEvaluator(\"sparse\", 512, 4, 56, 2, 28, 4, n_trial=20)\n",
    "tvm_sparse_block.setup()\n",
    "tvm_sparse_block.autotune()\n",
    "tvm_sparse_block.build()\n",
    "tvm_sparse_block.evaluate(verbose=True)\n",
    "tvm_sparse_block.evaluate()"
   ]
  },
  {
   "cell_type": "code",
   "execution_count": 3,
   "metadata": {},
   "outputs": [
    {
     "name": "stderr",
     "output_type": "stream",
     "text": [
      "conv3: 100%|██████████| 3/3 [00:53<00:00, 17.91s/it]\n"
     ]
    },
    {
     "name": "stdout",
     "output_type": "stream",
     "text": [
      "All layers in TVMBlockEvaluator are autotuned.\n"
     ]
    },
    {
     "data": {
      "text/plain": [
       "0.02364724026"
      ]
     },
     "execution_count": 3,
     "metadata": {},
     "output_type": "execute_result"
    }
   ],
   "source": [
    "tvm_dense_block = TVMBlockEvaluator(\"dense\", 512, 4, 56, 2, 28, 4, n_trial=20)\n",
    "tvm_dense_block.setup()\n",
    "tvm_dense_block.autotune()\n",
    "tvm_dense_block.build()\n",
    "tvm_dense_block.evaluate(verbose=True)\n",
    "tvm_dense_block.evaluate()"
   ]
  },
  {
   "cell_type": "code",
   "execution_count": 2,
   "metadata": {},
   "outputs": [
    {
     "name": "stderr",
     "output_type": "stream",
     "text": [
      "/usr/local/lib/python3.8/dist-packages/xgboost/compat.py:36: FutureWarning: pandas.Int64Index is deprecated and will be removed from pandas in a future version. Use pandas.Index with the appropriate dtype instead.\n",
      "  from pandas import MultiIndex, Int64Index\n"
     ]
    },
    {
     "data": {
      "text/plain": [
       "0.00235651856"
      ]
     },
     "execution_count": 2,
     "metadata": {},
     "output_type": "execute_result"
    }
   ],
   "source": [
    "# test conv dense scheduler\n",
    "conv_dense_scheduler = ConvDenseScheduler(128, 512, 64, 3, \"log/conv3x3_dense.log\")\n",
    "conv_dense_scheduler.n_trial = 50\n",
    "conv_dense_scheduler.rtol = 1e-5\n",
    "conv_dense_scheduler.atol = 1e-3\n",
    "conv_dense_scheduler.autotune(refresh=True)\n",
    "conv_dense_scheduler.build(display=False)\n",
    "conv_dense_scheduler.check(runtype=\"pytorch\")\n",
    "conv_dense_scheduler.evaluate()"
   ]
  },
  {
   "cell_type": "code",
   "execution_count": 3,
   "metadata": {},
   "outputs": [
    {
     "data": {
      "text/plain": [
       "0.00020397229"
      ]
     },
     "execution_count": 3,
     "metadata": {},
     "output_type": "execute_result"
    }
   ],
   "source": [
    "# test conv dense scheduler\n",
    "conv_dense_scheduler = ConvDenseScheduler(128, 512, 64, 1, \"log/conv1x1_dense.log\")\n",
    "conv_dense_scheduler.n_trial = 50\n",
    "conv_dense_scheduler.rtol = 1e-5\n",
    "conv_dense_scheduler.atol = 1e-3\n",
    "conv_dense_scheduler.autotune(refresh=True)\n",
    "conv_dense_scheduler.build(display=False)\n",
    "conv_dense_scheduler.check(runtype=\"pytorch\")\n",
    "conv_dense_scheduler.evaluate()"
   ]
  },
  {
   "cell_type": "code",
   "execution_count": 5,
   "metadata": {},
   "outputs": [
    {
     "data": {
      "text/plain": [
       "2.348793e-05"
      ]
     },
     "execution_count": 5,
     "metadata": {},
     "output_type": "execute_result"
    }
   ],
   "source": [
    "# test conv1x1 gathered scheduler\n",
    "conv1x1_gathered_scheduler = Conv1x1GatheredScheduler(512, 128, 128, 2, \"log/conv1x1_gathered.log\")\n",
    "conv1x1_gathered_scheduler.n_trial = 50\n",
    "conv1x1_gathered_scheduler.rtol = 1e-5\n",
    "conv1x1_gathered_scheduler.atol = 1e-3\n",
    "conv1x1_gathered_scheduler.autotune(refresh=True)\n",
    "conv1x1_gathered_scheduler.build(display=False)\n",
    "conv1x1_gathered_scheduler.check(runtype=\"pytorch\")\n",
    "conv1x1_gathered_scheduler.evaluate()"
   ]
  },
  {
   "cell_type": "code",
   "execution_count": 2,
   "metadata": {},
   "outputs": [
    {
     "name": "stderr",
     "output_type": "stream",
     "text": [
      "/usr/local/lib/python3.8/dist-packages/xgboost/compat.py:36: FutureWarning: pandas.Int64Index is deprecated and will be removed from pandas in a future version. Use pandas.Index with the appropriate dtype instead.\n",
      "  from pandas import MultiIndex, Int64Index\n"
     ]
    },
    {
     "data": {
      "text/plain": [
       "9.848044e-05"
      ]
     },
     "execution_count": 2,
     "metadata": {},
     "output_type": "execute_result"
    }
   ],
   "source": [
    "# test scatter add\n",
    "scatter_add_scheduler = ScatterAddScheduler(64, 512, 128, 2, \"log/scatter_add.log\")\n",
    "scatter_add_scheduler.n_trial = 10\n",
    "scatter_add_scheduler.autotune(refresh=True)\n",
    "scatter_add_scheduler.build(display=False)\n",
    "scatter_add_scheduler.check()\n",
    "scatter_add_scheduler.evaluate()"
   ]
  },
  {
   "cell_type": "code",
   "execution_count": null,
   "metadata": {},
   "outputs": [
    {
     "data": {
      "text/plain": [
       "0.0005954454"
      ]
     },
     "execution_count": 5,
     "metadata": {},
     "output_type": "execute_result"
    }
   ],
   "source": [
    "# test conv3x3 gathered scheduler\n",
    "conv3x3_gathered_scheduler = Conv3x3GatheredScheduler(512, 4, 128, 2, \"log/conv3x3_gathered.log\")\n",
    "conv3x3_gathered_scheduler.n_trial = 50\n",
    "conv3x3_gathered_scheduler.rtol = 1e-5\n",
    "conv3x3_gathered_scheduler.atol = 1e-3\n",
    "conv3x3_gathered_scheduler.autotune(refresh=True)\n",
    "conv3x3_gathered_scheduler.build(display=False)\n",
    "conv3x3_gathered_scheduler.check(runtype=\"pytorch\")\n",
    "\n",
    "# sample = conv3x3_gathered_scheduler._generate_sample()\n",
    "# res_tvm = conv3x3_gathered_scheduler._run_tvm(sample)\n",
    "# res_pytorch = conv3x3_gathered_scheduler._run_pytorch(sample)\n",
    "# for i in range(128):\n",
    "#     for j in range(512):\n",
    "#         if np.sum(res_tvm[i, j, :] - res_pytorch[i, j, :]) > 1e-2:\n",
    "#             print(i, j)\n",
    "\n",
    "conv3x3_gathered_scheduler.evaluate()"
   ]
  },
  {
   "cell_type": "code",
   "execution_count": null,
   "metadata": {},
   "outputs": [
    {
     "name": "stderr",
     "output_type": "stream",
     "text": [
      "/usr/local/lib/python3.8/dist-packages/xgboost/compat.py:36: FutureWarning: pandas.Int64Index is deprecated and will be removed from pandas in a future version. Use pandas.Index with the appropriate dtype instead.\n",
      "  from pandas import MultiIndex, Int64Index\n"
     ]
    },
    {
     "data": {
      "text/plain": [
       "2.398621e-05"
      ]
     },
     "execution_count": 3,
     "metadata": {},
     "output_type": "execute_result"
    }
   ],
   "source": [
    "# test gather scheduler\n",
    "gather_scheduler = GatherScheduler(64, 512, 128, 2, \"log/gather.log\")\n",
    "gather_scheduler.n_trial = 10\n",
    "gather_scheduler.autotune(refresh=True)\n",
    "gather_scheduler.build(display=False)\n",
    "gather_scheduler.check()\n",
    "gather_scheduler.evaluate()"
   ]
  },
  {
   "cell_type": "code",
   "execution_count": null,
   "metadata": {},
   "outputs": [],
   "source": []
  }
 ],
 "metadata": {
  "interpreter": {
   "hash": "31f2aee4e71d21fbe5cf8b01ff0e069b9275f58929596ceb00d14d90e3e16cd6"
  },
  "kernelspec": {
   "display_name": "Python 3.8.0 64-bit",
   "language": "python",
   "name": "python3"
  },
  "language_info": {
   "codemirror_mode": {
    "name": "ipython",
    "version": 3
   },
   "file_extension": ".py",
   "mimetype": "text/x-python",
   "name": "python",
   "nbconvert_exporter": "python",
   "pygments_lexer": "ipython3",
   "version": "3.8.0"
  },
  "orig_nbformat": 4
 },
 "nbformat": 4,
 "nbformat_minor": 2
}
