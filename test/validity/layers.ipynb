{
 "cells": [
  {
   "cell_type": "code",
   "execution_count": 1,
   "metadata": {},
   "outputs": [
    {
     "name": "stderr",
     "output_type": "stream",
     "text": [
      "/usr/local/lib/python3.8/dist-packages/tqdm/auto.py:22: TqdmWarning: IProgress not found. Please update jupyter and ipywidgets. See https://ipywidgets.readthedocs.io/en/stable/user_install.html\n",
      "  from .autonotebook import tqdm as notebook_tqdm\n"
     ]
    }
   ],
   "source": [
    "import sys\n",
    "sys.path.append(\"../..\")\n",
    "import numpy as np\n",
    "import os\n",
    "from functools import reduce\n",
    "import json\n",
    "\n",
    "from layers import *\n",
    "from blocks import *\n",
    "from utils import *"
   ]
  },
  {
   "cell_type": "code",
   "execution_count": 2,
   "metadata": {},
   "outputs": [],
   "source": [
    "if not os.path.exists(\"log\"):\n",
    "    os.mkdir(\"log\")"
   ]
  },
  {
   "cell_type": "code",
   "execution_count": 5,
   "metadata": {},
   "outputs": [
    {
     "name": "stderr",
     "output_type": "stream",
     "text": [
      "[08:42:38] ../src/tir/transforms/loop_partition.cc:617: Warning: Cannot prove: (((((((floordiv(((((blockIdx.z*8) + (vthread*4)) + (threadIdx.z*2)) + 1), 16)*64) + 1) - (floordiv(blockIdx.z, 2)*64)) - 1) - (((512 - rc.inner.outer) - (rc.outer*32)) - (floordiv(blockIdx.z, 2)*64))) + 1) >= 0), when generating the post doubt loop\n"
     ]
    },
    {
     "data": {
      "text/plain": [
       "0.00017612233"
      ]
     },
     "execution_count": 5,
     "metadata": {},
     "output_type": "execute_result"
    }
   ],
   "source": [
    "# test conv dense scheduler\n",
    "s = GroupConvDenseScheduler(128, 512, 64, 3, 8, \"log/groupconv3x3_dense.log\")\n",
    "s.n_trial = 50\n",
    "s.rtol = 1e-5\n",
    "s.atol = 1e-3\n",
    "s.autotune(refresh=True)\n",
    "s.build(display=False)\n",
    "s.check(runtype=\"pytorch\")\n",
    "s.evaluate()"
   ]
  },
  {
   "cell_type": "code",
   "execution_count": 3,
   "metadata": {},
   "outputs": [
    {
     "name": "stderr",
     "output_type": "stream",
     "text": [
      "/usr/local/lib/python3.8/dist-packages/xgboost/compat.py:36: FutureWarning: pandas.Int64Index is deprecated and will be removed from pandas in a future version. Use pandas.Index with the appropriate dtype instead.\n",
      "  from pandas import MultiIndex, Int64Index\n"
     ]
    },
    {
     "data": {
      "text/plain": [
       "2.58778e-06"
      ]
     },
     "execution_count": 3,
     "metadata": {},
     "output_type": "execute_result"
    }
   ],
   "source": [
    "# test pooling scheduler\n",
    "s = PoolingScheduler(128, 14, 2, \"log/pooling.log\")\n",
    "s.n_trial = 40\n",
    "s.rtol = 1e-5\n",
    "s.atol = 1e-3\n",
    "s.autotune(refresh=True)\n",
    "s.build(display=False)\n",
    "s.check(runtype=\"pytorch\")\n",
    "s.evaluate()"
   ]
  },
  {
   "cell_type": "code",
   "execution_count": 6,
   "metadata": {},
   "outputs": [
    {
     "data": {
      "text/plain": [
       "2.4450399999999997e-06"
      ]
     },
     "execution_count": 6,
     "metadata": {},
     "output_type": "execute_result"
    }
   ],
   "source": [
    "# test add scheduler\n",
    "s = AddScheduler(128, 14, \"log/add.log\")\n",
    "s.n_trial = 40\n",
    "s.rtol = 1e-5\n",
    "s.atol = 1e-3\n",
    "s.autotune(refresh=True)\n",
    "s.build(display=False)\n",
    "s.check(runtype=\"numpy\")\n",
    "s.evaluate()"
   ]
  },
  {
   "cell_type": "code",
   "execution_count": 4,
   "metadata": {},
   "outputs": [
    {
     "data": {
      "text/plain": [
       "0.00091672511"
      ]
     },
     "execution_count": 4,
     "metadata": {},
     "output_type": "execute_result"
    }
   ],
   "source": [
    "# test conv dense scheduler\n",
    "s = ConvDenseScheduler(128, 512, 64, 3, \"log/conv3x3_dense.log\")\n",
    "s.n_trial = 50\n",
    "s.rtol = 1e-5\n",
    "s.atol = 1e-3\n",
    "s.autotune(refresh=True)\n",
    "s.build(display=False)\n",
    "s.check(runtype=\"pytorch\")\n",
    "s.evaluate()"
   ]
  },
  {
   "cell_type": "code",
   "execution_count": null,
   "metadata": {},
   "outputs": [
    {
     "data": {
      "text/plain": [
       "0.00020397229"
      ]
     },
     "execution_count": 3,
     "metadata": {},
     "output_type": "execute_result"
    }
   ],
   "source": [
    "# test conv dense scheduler\n",
    "s = ConvDenseScheduler(128, 512, 64, 1, \"log/conv1x1_dense.log\")\n",
    "s.n_trial = 50\n",
    "s.rtol = 1e-5\n",
    "s.atol = 1e-3\n",
    "s.autotune(refresh=True)\n",
    "s.build(display=False)\n",
    "s.check(runtype=\"pytorch\")\n",
    "s.evaluate()"
   ]
  },
  {
   "cell_type": "code",
   "execution_count": null,
   "metadata": {},
   "outputs": [
    {
     "data": {
      "text/plain": [
       "2.348793e-05"
      ]
     },
     "execution_count": 5,
     "metadata": {},
     "output_type": "execute_result"
    }
   ],
   "source": [
    "# test conv1x1 gathered scheduler\n",
    "s = Conv1x1GatheredScheduler(512, 128, 128, 2, \"log/conv1x1_gathered.log\")\n",
    "s.n_trial = 50\n",
    "s.rtol = 1e-5\n",
    "s.atol = 1e-3\n",
    "s.autotune(refresh=True)\n",
    "s.build(display=False)\n",
    "s.check(runtype=\"pytorch\")\n",
    "s.evaluate()"
   ]
  },
  {
   "cell_type": "code",
   "execution_count": null,
   "metadata": {},
   "outputs": [
    {
     "name": "stderr",
     "output_type": "stream",
     "text": [
      "/usr/local/lib/python3.8/dist-packages/xgboost/compat.py:36: FutureWarning: pandas.Int64Index is deprecated and will be removed from pandas in a future version. Use pandas.Index with the appropriate dtype instead.\n",
      "  from pandas import MultiIndex, Int64Index\n"
     ]
    },
    {
     "data": {
      "text/plain": [
       "9.848044e-05"
      ]
     },
     "execution_count": 2,
     "metadata": {},
     "output_type": "execute_result"
    }
   ],
   "source": [
    "# test scatter add\n",
    "s = ScatterAddScheduler(64, 512, 128, 2, \"log/scatter_add.log\")\n",
    "s.n_trial = 10\n",
    "s.autotune(refresh=True)\n",
    "s.build(display=False)\n",
    "s.check()\n",
    "s.evaluate()"
   ]
  },
  {
   "cell_type": "code",
   "execution_count": null,
   "metadata": {},
   "outputs": [
    {
     "data": {
      "text/plain": [
       "0.0005954454"
      ]
     },
     "execution_count": 5,
     "metadata": {},
     "output_type": "execute_result"
    }
   ],
   "source": [
    "# test conv3x3 gathered scheduler\n",
    "s = Conv3x3GatheredScheduler(512, 4, 128, 2, \"log/conv3x3_gathered.log\")\n",
    "s.n_trial = 50\n",
    "s.rtol = 1e-5\n",
    "s.atol = 1e-3\n",
    "s.autotune(refresh=True)\n",
    "s.build(display=False)\n",
    "s.check(runtype=\"pytorch\")\n",
    "s.evaluate()"
   ]
  },
  {
   "cell_type": "code",
   "execution_count": null,
   "metadata": {},
   "outputs": [
    {
     "name": "stderr",
     "output_type": "stream",
     "text": [
      "/usr/local/lib/python3.8/dist-packages/xgboost/compat.py:36: FutureWarning: pandas.Int64Index is deprecated and will be removed from pandas in a future version. Use pandas.Index with the appropriate dtype instead.\n",
      "  from pandas import MultiIndex, Int64Index\n"
     ]
    },
    {
     "data": {
      "text/plain": [
       "2.398621e-05"
      ]
     },
     "execution_count": 3,
     "metadata": {},
     "output_type": "execute_result"
    }
   ],
   "source": [
    "# test gather scheduler\n",
    "s = GatherScheduler(64, 512, 128, 2, \"log/gather.log\")\n",
    "s.n_trial = 10\n",
    "s.autotune(refresh=True)\n",
    "s.build(display=False)\n",
    "s.check()\n",
    "s.evaluate()"
   ]
  },
  {
   "cell_type": "code",
   "execution_count": null,
   "metadata": {},
   "outputs": [],
   "source": []
  }
 ],
 "metadata": {
  "interpreter": {
   "hash": "31f2aee4e71d21fbe5cf8b01ff0e069b9275f58929596ceb00d14d90e3e16cd6"
  },
  "kernelspec": {
   "display_name": "Python 3.8.0 64-bit",
   "language": "python",
   "name": "python3"
  },
  "language_info": {
   "codemirror_mode": {
    "name": "ipython",
    "version": 3
   },
   "file_extension": ".py",
   "mimetype": "text/x-python",
   "name": "python",
   "nbconvert_exporter": "python",
   "pygments_lexer": "ipython3",
   "version": "3.8.0"
  },
  "orig_nbformat": 4
 },
 "nbformat": 4,
 "nbformat_minor": 2
}
