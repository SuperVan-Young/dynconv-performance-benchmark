{
 "cells": [
  {
   "cell_type": "code",
   "execution_count": 1,
   "metadata": {},
   "outputs": [
    {
     "name": "stderr",
     "output_type": "stream",
     "text": [
      "/usr/local/lib/python3.8/dist-packages/tqdm/auto.py:22: TqdmWarning: IProgress not found. Please update jupyter and ipywidgets. See https://ipywidgets.readthedocs.io/en/stable/user_install.html\n",
      "  from .autonotebook import tqdm as notebook_tqdm\n"
     ]
    }
   ],
   "source": [
    "import torch\n",
    "from test_sparse import *\n",
    "from utils import *\n",
    "import json"
   ]
  },
  {
   "cell_type": "code",
   "execution_count": 2,
   "metadata": {},
   "outputs": [
    {
     "ename": "FileNotFoundError",
     "evalue": "[Errno 2] No such file or directory: 'log/c64_w56_g16/l40_m4/maskconv.json'",
     "output_type": "error",
     "traceback": [
      "\u001b[0;31m---------------------------------------------------------------------------\u001b[0m",
      "\u001b[0;31mFileNotFoundError\u001b[0m                         Traceback (most recent call last)",
      "\u001b[1;32m/root/dynconv-performance-benchmark/test/sparse/view_sparse.ipynb Cell 2'\u001b[0m in \u001b[0;36m<cell line: 5>\u001b[0;34m()\u001b[0m\n\u001b[1;32m     <a href='vscode-notebook-cell://ssh-remote%2B7b22686f73744e616d65223a224447582d6479636f6e762d646f636b6572227d/root/dynconv-performance-benchmark/test/sparse/view_sparse.ipynb#ch0000001vscode-remote?line=10'>11</a>\u001b[0m sl \u001b[39m=\u001b[39m find_best_sparselen(width\u001b[39m/\u001b[39m\u001b[39m/\u001b[39mg, s\u001b[39m-\u001b[39msd, s\u001b[39m+\u001b[39msd)\n\u001b[1;32m     <a href='vscode-notebook-cell://ssh-remote%2B7b22686f73744e616d65223a224447582d6479636f6e762d646f636b6572227d/root/dynconv-performance-benchmark/test/sparse/view_sparse.ipynb#ch0000001vscode-remote?line=11'>12</a>\u001b[0m bs\u001b[39m.\u001b[39msetup_sparse(sl, g, \u001b[39mTrue\u001b[39;00m, \u001b[39mTrue\u001b[39;00m, \u001b[39mTrue\u001b[39;00m, \u001b[39mTrue\u001b[39;00m)\n\u001b[0;32m---> <a href='vscode-notebook-cell://ssh-remote%2B7b22686f73744e616d65223a224447582d6479636f6e762d646f636b6572227d/root/dynconv-performance-benchmark/test/sparse/view_sparse.ipynb#ch0000001vscode-remote?line=12'>13</a>\u001b[0m bs\u001b[39m.\u001b[39;49mbuild(\u001b[39m\"\u001b[39;49m\u001b[39msparse\u001b[39;49m\u001b[39m\"\u001b[39;49m)\n\u001b[1;32m     <a href='vscode-notebook-cell://ssh-remote%2B7b22686f73744e616d65223a224447582d6479636f6e762d646f636b6572227d/root/dynconv-performance-benchmark/test/sparse/view_sparse.ipynb#ch0000001vscode-remote?line=13'>14</a>\u001b[0m res \u001b[39m=\u001b[39m bs\u001b[39m.\u001b[39mevaluate(\u001b[39m\"\u001b[39m\u001b[39msparse\u001b[39m\u001b[39m\"\u001b[39m, verbose\u001b[39m=\u001b[39m\u001b[39mTrue\u001b[39;00m)\n\u001b[1;32m     <a href='vscode-notebook-cell://ssh-remote%2B7b22686f73744e616d65223a224447582d6479636f6e762d646f636b6572227d/root/dynconv-performance-benchmark/test/sparse/view_sparse.ipynb#ch0000001vscode-remote?line=14'>15</a>\u001b[0m res[\u001b[39m\"\u001b[39m\u001b[39mchannel\u001b[39m\u001b[39m\"\u001b[39m] \u001b[39m=\u001b[39m channel\n",
      "File \u001b[0;32m~/dynconv-performance-benchmark/blocks/dynamic.py:133\u001b[0m, in \u001b[0;36mTVMDynamicBlockEvaluator.build\u001b[0;34m(self, mode)\u001b[0m\n\u001b[1;32m    <a href='file:///~/dynconv-performance-benchmark/blocks/dynamic.py?line=130'>131</a>\u001b[0m     \u001b[39mraise\u001b[39;00m \u001b[39mRuntimeError\u001b[39;00m(\u001b[39m\"\u001b[39m\u001b[39mBlock not autotuned\u001b[39m\u001b[39m\"\u001b[39m)\n\u001b[1;32m    <a href='file:///~/dynconv-performance-benchmark/blocks/dynamic.py?line=131'>132</a>\u001b[0m \u001b[39mfor\u001b[39;00m layer \u001b[39min\u001b[39;00m layers\u001b[39m.\u001b[39mvalues():\n\u001b[0;32m--> <a href='file:///~/dynconv-performance-benchmark/blocks/dynamic.py?line=132'>133</a>\u001b[0m     layer\u001b[39m.\u001b[39;49mbuild()\n",
      "File \u001b[0;32m~/dynconv-performance-benchmark/layers/base.py:113\u001b[0m, in \u001b[0;36mBaseLayerScheduler.build\u001b[0;34m(self, display)\u001b[0m\n\u001b[1;32m    <a href='file:///~/dynconv-performance-benchmark/layers/base.py?line=109'>110</a>\u001b[0m \u001b[39mdef\u001b[39;00m \u001b[39mbuild\u001b[39m(\u001b[39mself\u001b[39m, display\u001b[39m=\u001b[39m\u001b[39mFalse\u001b[39;00m):\n\u001b[1;32m    <a href='file:///~/dynconv-performance-benchmark/layers/base.py?line=110'>111</a>\u001b[0m     \u001b[39m\"\"\"Build a runtime function on the best schedule\u001b[39;00m\n\u001b[1;32m    <a href='file:///~/dynconv-performance-benchmark/layers/base.py?line=111'>112</a>\u001b[0m \u001b[39m    \"\"\"\u001b[39;00m\n\u001b[0;32m--> <a href='file:///~/dynconv-performance-benchmark/layers/base.py?line=112'>113</a>\u001b[0m     \u001b[39mwith\u001b[39;00m autotvm\u001b[39m.\u001b[39;49mapply_history_best(\u001b[39mself\u001b[39;49m\u001b[39m.\u001b[39;49msave_path):\n\u001b[1;32m    <a href='file:///~/dynconv-performance-benchmark/layers/base.py?line=113'>114</a>\u001b[0m         \u001b[39mwith\u001b[39;00m tvm\u001b[39m.\u001b[39mtarget\u001b[39m.\u001b[39mTarget(\u001b[39mself\u001b[39m\u001b[39m.\u001b[39mtarget):\n\u001b[1;32m    <a href='file:///~/dynconv-performance-benchmark/layers/base.py?line=114'>115</a>\u001b[0m             s, arg_bufs \u001b[39m=\u001b[39m \u001b[39mself\u001b[39m\u001b[39m.\u001b[39m_schedule\n",
      "File \u001b[0;32m/usr/local/lib/python3.8/dist-packages/tvm-0.9.dev913+gae285c6f0-py3.8-linux-x86_64.egg/tvm/autotvm/task/dispatcher.py:201\u001b[0m, in \u001b[0;36mApplyHistoryBest.__init__\u001b[0;34m(self, records)\u001b[0m\n\u001b[1;32m    <a href='file:///usr/local/lib/python3.8/dist-packages/tvm-0.9.dev913%2Bgae285c6f0-py3.8-linux-x86_64.egg/tvm/autotvm/task/dispatcher.py?line=197'>198</a>\u001b[0m \u001b[39mself\u001b[39m\u001b[39m.\u001b[39m_best_user_defined \u001b[39m=\u001b[39m {}\n\u001b[1;32m    <a href='file:///usr/local/lib/python3.8/dist-packages/tvm-0.9.dev913%2Bgae285c6f0-py3.8-linux-x86_64.egg/tvm/autotvm/task/dispatcher.py?line=199'>200</a>\u001b[0m \u001b[39mif\u001b[39;00m records:\n\u001b[0;32m--> <a href='file:///usr/local/lib/python3.8/dist-packages/tvm-0.9.dev913%2Bgae285c6f0-py3.8-linux-x86_64.egg/tvm/autotvm/task/dispatcher.py?line=200'>201</a>\u001b[0m     \u001b[39mself\u001b[39;49m\u001b[39m.\u001b[39;49mload(records)\n",
      "File \u001b[0;32m/usr/local/lib/python3.8/dist-packages/tvm-0.9.dev913+gae285c6f0-py3.8-linux-x86_64.egg/tvm/autotvm/task/dispatcher.py:229\u001b[0m, in \u001b[0;36mApplyHistoryBest.load\u001b[0;34m(self, records)\u001b[0m\n\u001b[1;32m    <a href='file:///usr/local/lib/python3.8/dist-packages/tvm-0.9.dev913%2Bgae285c6f0-py3.8-linux-x86_64.egg/tvm/autotvm/task/dispatcher.py?line=225'>226</a>\u001b[0m best_by_model \u001b[39m=\u001b[39m \u001b[39mself\u001b[39m\u001b[39m.\u001b[39mbest_by_model\n\u001b[1;32m    <a href='file:///usr/local/lib/python3.8/dist-packages/tvm-0.9.dev913%2Bgae285c6f0-py3.8-linux-x86_64.egg/tvm/autotvm/task/dispatcher.py?line=227'>228</a>\u001b[0m counter \u001b[39m=\u001b[39m \u001b[39m0\u001b[39m\n\u001b[0;32m--> <a href='file:///usr/local/lib/python3.8/dist-packages/tvm-0.9.dev913%2Bgae285c6f0-py3.8-linux-x86_64.egg/tvm/autotvm/task/dispatcher.py?line=228'>229</a>\u001b[0m \u001b[39mfor\u001b[39;00m inp, res \u001b[39min\u001b[39;00m records:\n\u001b[1;32m    <a href='file:///usr/local/lib/python3.8/dist-packages/tvm-0.9.dev913%2Bgae285c6f0-py3.8-linux-x86_64.egg/tvm/autotvm/task/dispatcher.py?line=229'>230</a>\u001b[0m     counter \u001b[39m+\u001b[39m\u001b[39m=\u001b[39m \u001b[39m1\u001b[39m\n\u001b[1;32m    <a href='file:///usr/local/lib/python3.8/dist-packages/tvm-0.9.dev913%2Bgae285c6f0-py3.8-linux-x86_64.egg/tvm/autotvm/task/dispatcher.py?line=230'>231</a>\u001b[0m     \u001b[39mif\u001b[39;00m res\u001b[39m.\u001b[39merror_no \u001b[39m!=\u001b[39m \u001b[39m0\u001b[39m:\n",
      "File \u001b[0;32m/usr/local/lib/python3.8/dist-packages/tvm-0.9.dev913+gae285c6f0-py3.8-linux-x86_64.egg/tvm/autotvm/record.py:210\u001b[0m, in \u001b[0;36mload_from_file\u001b[0;34m(filename)\u001b[0m\n\u001b[1;32m    <a href='file:///usr/local/lib/python3.8/dist-packages/tvm-0.9.dev913%2Bgae285c6f0-py3.8-linux-x86_64.egg/tvm/autotvm/record.py?line=196'>197</a>\u001b[0m \u001b[39mdef\u001b[39;00m \u001b[39mload_from_file\u001b[39m(filename):\n\u001b[1;32m    <a href='file:///usr/local/lib/python3.8/dist-packages/tvm-0.9.dev913%2Bgae285c6f0-py3.8-linux-x86_64.egg/tvm/autotvm/record.py?line=197'>198</a>\u001b[0m     \u001b[39m\"\"\"Generator: load records from file.\u001b[39;00m\n\u001b[1;32m    <a href='file:///usr/local/lib/python3.8/dist-packages/tvm-0.9.dev913%2Bgae285c6f0-py3.8-linux-x86_64.egg/tvm/autotvm/record.py?line=198'>199</a>\u001b[0m \u001b[39m    This is a generator that yields the records.\u001b[39;00m\n\u001b[1;32m    <a href='file:///usr/local/lib/python3.8/dist-packages/tvm-0.9.dev913%2Bgae285c6f0-py3.8-linux-x86_64.egg/tvm/autotvm/record.py?line=199'>200</a>\u001b[0m \n\u001b[0;32m   (...)\u001b[0m\n\u001b[1;32m    <a href='file:///usr/local/lib/python3.8/dist-packages/tvm-0.9.dev913%2Bgae285c6f0-py3.8-linux-x86_64.egg/tvm/autotvm/record.py?line=207'>208</a>\u001b[0m \u001b[39m    result: autotvm.measure.MeasureResult\u001b[39;00m\n\u001b[1;32m    <a href='file:///usr/local/lib/python3.8/dist-packages/tvm-0.9.dev913%2Bgae285c6f0-py3.8-linux-x86_64.egg/tvm/autotvm/record.py?line=208'>209</a>\u001b[0m \u001b[39m    \"\"\"\u001b[39;00m\n\u001b[0;32m--> <a href='file:///usr/local/lib/python3.8/dist-packages/tvm-0.9.dev913%2Bgae285c6f0-py3.8-linux-x86_64.egg/tvm/autotvm/record.py?line=209'>210</a>\u001b[0m     \u001b[39mwith\u001b[39;00m \u001b[39mopen\u001b[39;49m(filename) \u001b[39mas\u001b[39;00m f:\n\u001b[1;32m    <a href='file:///usr/local/lib/python3.8/dist-packages/tvm-0.9.dev913%2Bgae285c6f0-py3.8-linux-x86_64.egg/tvm/autotvm/record.py?line=210'>211</a>\u001b[0m         \u001b[39mfor\u001b[39;00m row \u001b[39min\u001b[39;00m f:\n\u001b[1;32m    <a href='file:///usr/local/lib/python3.8/dist-packages/tvm-0.9.dev913%2Bgae285c6f0-py3.8-linux-x86_64.egg/tvm/autotvm/record.py?line=211'>212</a>\u001b[0m             \u001b[39mif\u001b[39;00m row \u001b[39mand\u001b[39;00m \u001b[39mnot\u001b[39;00m row\u001b[39m.\u001b[39mstartswith(\u001b[39m\"\u001b[39m\u001b[39m#\u001b[39m\u001b[39m\"\u001b[39m):\n",
      "\u001b[0;31mFileNotFoundError\u001b[0m: [Errno 2] No such file or directory: 'log/c64_w56_g16/l40_m4/maskconv.json'"
     ]
    }
   ],
   "source": [
    "rr = []\n",
    "ss = [0.2, 0.4, 0.6, 0.8]\n",
    "sd = 0.01\n",
    "widths, channels, group = regnet_parameters(\"008\")\n",
    "for i in range(4):\n",
    "    width, channel = widths[i], channels[i]\n",
    "    gg = get_factors(width)\n",
    "    for s in ss:\n",
    "        for g in gg:\n",
    "            bs = TVMDynamicBlockEvaluator(channel, width, group, f\"log/c{channel}_w{width}_g{group}\")\n",
    "            sl = find_best_sparselen(width//g, s-sd, s+sd)\n",
    "            bs.setup_sparse(sl, g, True, True, True, True)\n",
    "            bs.build(\"sparse\")\n",
    "            res = bs.evaluate(\"sparse\", verbose=True)\n",
    "            res[\"channel\"] = channel\n",
    "            res[\"width\"] = width\n",
    "            res[\"group\"] = group\n",
    "            res[\"sparsity\"] = s\n",
    "            res[\"sparselen\"] = sl\n",
    "            res[\"granularity\"] = g\n",
    "            rr.append(res)\n",
    "log_ls_to_json(rr, \"results.json\")\n"
   ]
  },
  {
   "cell_type": "code",
   "execution_count": 3,
   "metadata": {},
   "outputs": [
    {
     "name": "stdout",
     "output_type": "stream",
     "text": [
      "      conv2     conv3    gather scatter_add  maskconv   pooling channel width  \\\n",
      "0  0.028565  0.027888  0.121402    0.117387  0.030312  0.026476    64.0  56.0   \n",
      "1  0.005817  0.005227  0.011123    0.008683  0.005774  0.006478    64.0  56.0   \n",
      "\n",
      "  group sparsity sparselen granularity  \n",
      "0  16.0      0.2     600.0         1.0  \n",
      "1  16.0      0.2     150.0         2.0  \n"
     ]
    },
    {
     "name": "stderr",
     "output_type": "stream",
     "text": [
      "/tmp/ipykernel_8017/496098352.py:9: FutureWarning: The frame.append method is deprecated and will be removed from pandas in a future version. Use pandas.concat instead.\n",
      "  df = df.append(r_, ignore_index=True)\n",
      "/tmp/ipykernel_8017/496098352.py:9: FutureWarning: The frame.append method is deprecated and will be removed from pandas in a future version. Use pandas.concat instead.\n",
      "  df = df.append(r_, ignore_index=True)\n"
     ]
    }
   ],
   "source": [
    "import pandas as pd\n",
    "\n",
    "# rr = load_json_to_ls(\"results.json\")\n",
    "df = pd.DataFrame(columns=list(rr[0].keys()))\n",
    "for r in rr:\n",
    "    r_ = {k: v for k, v in r.items()}  \n",
    "    for m in [\"conv2\", \"conv3\", \"maskconv\", \"pooling\", \"gather\", \"scatter_add\"]:\n",
    "        r_[m] *= 1000 # in ms\n",
    "    df = df.append(r_, ignore_index=True)\n",
    "print(df)\n",
    "df.to_csv(\"results.csv\")"
   ]
  },
  {
   "cell_type": "code",
   "execution_count": null,
   "metadata": {},
   "outputs": [],
   "source": []
  }
 ],
 "metadata": {
  "interpreter": {
   "hash": "31f2aee4e71d21fbe5cf8b01ff0e069b9275f58929596ceb00d14d90e3e16cd6"
  },
  "kernelspec": {
   "display_name": "Python 3.8.0 64-bit",
   "language": "python",
   "name": "python3"
  },
  "language_info": {
   "codemirror_mode": {
    "name": "ipython",
    "version": 3
   },
   "file_extension": ".py",
   "mimetype": "text/x-python",
   "name": "python",
   "nbconvert_exporter": "python",
   "pygments_lexer": "ipython3",
   "version": "3.8.0"
  },
  "orig_nbformat": 4
 },
 "nbformat": 4,
 "nbformat_minor": 2
}
