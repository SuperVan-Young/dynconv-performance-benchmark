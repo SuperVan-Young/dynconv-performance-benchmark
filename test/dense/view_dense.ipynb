{
 "cells": [
  {
   "cell_type": "code",
   "execution_count": 1,
   "metadata": {},
   "outputs": [
    {
     "name": "stderr",
     "output_type": "stream",
     "text": [
      "/usr/local/lib/python3.8/dist-packages/tqdm/auto.py:22: TqdmWarning: IProgress not found. Please update jupyter and ipywidgets. See https://ipywidgets.readthedocs.io/en/stable/user_install.html\n",
      "  from .autonotebook import tqdm as notebook_tqdm\n"
     ]
    }
   ],
   "source": [
    "import torch\n",
    "from test_dense import *\n",
    "from utils import *\n",
    "import json"
   ]
  },
  {
   "cell_type": "code",
   "execution_count": 2,
   "metadata": {},
   "outputs": [
    {
     "name": "stderr",
     "output_type": "stream",
     "text": [
      "/usr/local/lib/python3.8/dist-packages/xgboost/compat.py:36: FutureWarning: pandas.Int64Index is deprecated and will be removed from pandas in a future version. Use pandas.Index with the appropriate dtype instead.\n",
      "  from pandas import MultiIndex, Int64Index\n"
     ]
    }
   ],
   "source": [
    "# fix up a missing point\n",
    "# bs = TVMDynamicBlockEvaluator(672, 7, 16, \"log/c672_w7_g16\", 40)\n",
    "# bs.setup()\n",
    "# bs.layers[\"conv2\"].autotune()"
   ]
  },
  {
   "cell_type": "code",
   "execution_count": 5,
   "metadata": {},
   "outputs": [],
   "source": [
    "rr = []\n",
    "for num in [\"002\", \"004\", \"006\", \"008\"]:\n",
    "    widths, channels, group = regnet_parameters(num)\n",
    "    for i in range(4):\n",
    "        width, channel = widths[i], channels[i]\n",
    "        bs = TVMDynamicBlockEvaluator(channel, width, group, f\"log/c{channel}_w{width}_g{group}\")\n",
    "        bs.setup()\n",
    "        bs.build()\n",
    "        res = bs.evaluate(verbose=True)\n",
    "        res[\"channel\"] = channel\n",
    "        res[\"width\"] = width\n",
    "        res[\"group\"] = group\n",
    "        rr.append(res)\n",
    "log_ls_to_json(rr, \"results.json\")\n"
   ]
  },
  {
   "cell_type": "code",
   "execution_count": 7,
   "metadata": {},
   "outputs": [
    {
     "name": "stderr",
     "output_type": "stream",
     "text": [
      "/tmp/ipykernel_30249/2097985990.py:10: FutureWarning: The frame.append method is deprecated and will be removed from pandas in a future version. Use pandas.concat instead.\n",
      "  df = df.append(r_, ignore_index=True)\n",
      "/tmp/ipykernel_30249/2097985990.py:10: FutureWarning: The frame.append method is deprecated and will be removed from pandas in a future version. Use pandas.concat instead.\n",
      "  df = df.append(r_, ignore_index=True)\n",
      "/tmp/ipykernel_30249/2097985990.py:10: FutureWarning: The frame.append method is deprecated and will be removed from pandas in a future version. Use pandas.concat instead.\n",
      "  df = df.append(r_, ignore_index=True)\n",
      "/tmp/ipykernel_30249/2097985990.py:10: FutureWarning: The frame.append method is deprecated and will be removed from pandas in a future version. Use pandas.concat instead.\n",
      "  df = df.append(r_, ignore_index=True)\n",
      "/tmp/ipykernel_30249/2097985990.py:10: FutureWarning: The frame.append method is deprecated and will be removed from pandas in a future version. Use pandas.concat instead.\n",
      "  df = df.append(r_, ignore_index=True)\n",
      "/tmp/ipykernel_30249/2097985990.py:10: FutureWarning: The frame.append method is deprecated and will be removed from pandas in a future version. Use pandas.concat instead.\n",
      "  df = df.append(r_, ignore_index=True)\n",
      "/tmp/ipykernel_30249/2097985990.py:10: FutureWarning: The frame.append method is deprecated and will be removed from pandas in a future version. Use pandas.concat instead.\n",
      "  df = df.append(r_, ignore_index=True)\n",
      "/tmp/ipykernel_30249/2097985990.py:10: FutureWarning: The frame.append method is deprecated and will be removed from pandas in a future version. Use pandas.concat instead.\n",
      "  df = df.append(r_, ignore_index=True)\n",
      "/tmp/ipykernel_30249/2097985990.py:10: FutureWarning: The frame.append method is deprecated and will be removed from pandas in a future version. Use pandas.concat instead.\n",
      "  df = df.append(r_, ignore_index=True)\n",
      "/tmp/ipykernel_30249/2097985990.py:10: FutureWarning: The frame.append method is deprecated and will be removed from pandas in a future version. Use pandas.concat instead.\n",
      "  df = df.append(r_, ignore_index=True)\n",
      "/tmp/ipykernel_30249/2097985990.py:10: FutureWarning: The frame.append method is deprecated and will be removed from pandas in a future version. Use pandas.concat instead.\n",
      "  df = df.append(r_, ignore_index=True)\n",
      "/tmp/ipykernel_30249/2097985990.py:10: FutureWarning: The frame.append method is deprecated and will be removed from pandas in a future version. Use pandas.concat instead.\n",
      "  df = df.append(r_, ignore_index=True)\n",
      "/tmp/ipykernel_30249/2097985990.py:10: FutureWarning: The frame.append method is deprecated and will be removed from pandas in a future version. Use pandas.concat instead.\n",
      "  df = df.append(r_, ignore_index=True)\n",
      "/tmp/ipykernel_30249/2097985990.py:10: FutureWarning: The frame.append method is deprecated and will be removed from pandas in a future version. Use pandas.concat instead.\n",
      "  df = df.append(r_, ignore_index=True)\n",
      "/tmp/ipykernel_30249/2097985990.py:10: FutureWarning: The frame.append method is deprecated and will be removed from pandas in a future version. Use pandas.concat instead.\n",
      "  df = df.append(r_, ignore_index=True)\n",
      "/tmp/ipykernel_30249/2097985990.py:10: FutureWarning: The frame.append method is deprecated and will be removed from pandas in a future version. Use pandas.concat instead.\n",
      "  df = df.append(r_, ignore_index=True)\n"
     ]
    },
    {
     "name": "stdout",
     "output_type": "stream",
     "text": [
      "   maskconv1     conv1     conv2       add channel width group\n",
      "0   0.000008  0.000005  0.000028  0.002675    24.0  56.0   8.0\n",
      "1   0.000063   0.00001  0.000042  0.002518    56.0  28.0   8.0\n",
      "2   0.000028  0.000044  0.000086  0.002495   152.0  14.0   8.0\n",
      "3   0.000074  0.000028  0.000765  0.002457   368.0   7.0   8.0\n",
      "4   0.000029   0.00001  0.000043  0.002756    32.0  56.0  16.0\n",
      "5   0.000071  0.000016  0.000043  0.002547    64.0  28.0  16.0\n",
      "6   0.000049  0.000042  0.000175  0.002517   160.0  14.0  16.0\n",
      "7   0.000054  0.000058  0.001597  0.002246   384.0   7.0  16.0\n",
      "8   0.000088  0.000016  0.000332   0.00291    48.0  56.0  24.0\n",
      "9   0.000019  0.000009  0.000736  0.002281    96.0  28.0  24.0\n",
      "10  0.000029  0.000036  0.000501  0.002248   240.0  14.0  24.0\n",
      "11  0.000152  0.000138  0.007572  0.002258   528.0   7.0  24.0\n",
      "12  0.000196  0.000041  0.003048  0.002773    64.0  56.0  16.0\n",
      "13  0.000053  0.000033   0.00007  0.002309   128.0  28.0  16.0\n",
      "14  0.000022  0.000071  0.000614  0.002295   288.0  14.0  16.0\n",
      "15  0.000298  0.002363  0.000988  0.002309   672.0   7.0  16.0\n"
     ]
    }
   ],
   "source": [
    "import pandas as pd\n",
    "\n",
    "rr = load_json_to_ls(\"results.json\")\n",
    "\n",
    "df = pd.DataFrame(columns=list(rr[0].keys()))\n",
    "for r in rr:\n",
    "    r_ = {k: v for k, v in r.items()}  \n",
    "    for m in [\"add\"]:\n",
    "        r_[m] *= 1000 # in ms\n",
    "    df = df.append(r_, ignore_index=True)\n",
    "print(df)\n",
    "df.to_csv(\"results.csv\")"
   ]
  },
  {
   "cell_type": "code",
   "execution_count": null,
   "metadata": {},
   "outputs": [],
   "source": []
  }
 ],
 "metadata": {
  "interpreter": {
   "hash": "31f2aee4e71d21fbe5cf8b01ff0e069b9275f58929596ceb00d14d90e3e16cd6"
  },
  "kernelspec": {
   "display_name": "Python 3.8.0 64-bit",
   "language": "python",
   "name": "python3"
  },
  "language_info": {
   "codemirror_mode": {
    "name": "ipython",
    "version": 3
   },
   "file_extension": ".py",
   "mimetype": "text/x-python",
   "name": "python",
   "nbconvert_exporter": "python",
   "pygments_lexer": "ipython3",
   "version": "3.8.0"
  },
  "orig_nbformat": 4
 },
 "nbformat": 4,
 "nbformat_minor": 2
}
