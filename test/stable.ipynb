{
 "cells": [
  {
   "cell_type": "code",
   "execution_count": 1,
   "metadata": {},
   "outputs": [
    {
     "name": "stderr",
     "output_type": "stream",
     "text": [
      "/usr/local/lib/python3.8/dist-packages/tqdm/auto.py:22: TqdmWarning: IProgress not found. Please update jupyter and ipywidgets. See https://ipywidgets.readthedocs.io/en/stable/user_install.html\n",
      "  from .autonotebook import tqdm as notebook_tqdm\n"
     ]
    }
   ],
   "source": [
    "import sys\n",
    "sys.path.append(\"..\")\n",
    "sys.path.append(\".\")\n",
    "import os\n",
    "import json\n",
    "\n",
    "from layers import *\n",
    "from blocks import *\n",
    "from utils import *\n",
    "\n",
    "from stable import *\n",
    "\n",
    "import numpy as np"
   ]
  },
  {
   "cell_type": "code",
   "execution_count": 2,
   "metadata": {},
   "outputs": [],
   "source": [
    "logdir = \"log_stable\"\n",
    "if not os.path.exists(logdir):\n",
    "    os.mkdir(logdir)\n",
    "\n",
    "# Regnet parameters\n",
    "widths = [56, 28, 14, 7]  # size of featuremap, after downsampling\n",
    "\n",
    "def regnet_parameters(num):\n",
    "    channels = None\n",
    "    group = None\n",
    "\n",
    "    if num == \"002\":\n",
    "        channels = [24, 56, 152, 368]\n",
    "        group = 8\n",
    "    elif num == \"004\":\n",
    "        channels = [32, 64, 160, 384]\n",
    "        group = 16\n",
    "    elif num == \"006\":\n",
    "        channels = [48, 96, 240, 528]\n",
    "        group = 24\n",
    "    elif num == \"008\":\n",
    "        channels = [64, 128, 288, 672]\n",
    "        group = 16\n",
    "    else:\n",
    "        raise NotImplementedError\n",
    "\n",
    "    return channels, group\n",
    "\n",
    "def get_factors(num):\n",
    "    factors = []\n",
    "    if num == 7:\n",
    "        factors = [1, 7]\n",
    "    elif num == 14:\n",
    "        factors = [1, 2, 7]\n",
    "    elif num == 28:\n",
    "        factors = [1, 2, 4, 7, 14]\n",
    "    elif num == 56:\n",
    "        factors = [1, 2, 4, 7, 8, 14, 28]\n",
    "    return factors\n"
   ]
  },
  {
   "cell_type": "code",
   "execution_count": 3,
   "metadata": {},
   "outputs": [
    {
     "ename": "TypeError",
     "evalue": "__call__() missing 2 required positional arguments: 'sparselen' and 'granularity'",
     "output_type": "error",
     "traceback": [
      "\u001b[0;31m---------------------------------------------------------------------------\u001b[0m",
      "\u001b[0;31mTypeError\u001b[0m                                 Traceback (most recent call last)",
      "Input \u001b[0;32mIn [3]\u001b[0m, in \u001b[0;36m<cell line: 4>\u001b[0;34m()\u001b[0m\n\u001b[1;32m      6\u001b[0m bs \u001b[39m=\u001b[39m TVMDynamicBlockEvaluator(channel, width, group, \u001b[39mf\u001b[39m\u001b[39m\"\u001b[39m\u001b[39mlog_stable/c\u001b[39m\u001b[39m{\u001b[39;00mchannel\u001b[39m}\u001b[39;00m\u001b[39m_w\u001b[39m\u001b[39m{\u001b[39;00mwidth\u001b[39m}\u001b[39;00m\u001b[39m_g\u001b[39m\u001b[39m{\u001b[39;00mgroup\u001b[39m}\u001b[39;00m\u001b[39m\"\u001b[39m)\n\u001b[1;32m      7\u001b[0m bs\u001b[39m.\u001b[39msetup()\n\u001b[0;32m----> 8\u001b[0m bs()\n",
      "\u001b[0;31mTypeError\u001b[0m: __call__() missing 2 required positional arguments: 'sparselen' and 'granularity'"
     ]
    }
   ],
   "source": [
    "# test stability on one regnet's parameters\n",
    "channels, group = regnet_parameters(\"006\")\n",
    "\n",
    "for i, width in enumerate(widths):\n",
    "    channel = channels[i]\n",
    "    bs = TVMDynamicBlockEvaluator(channel, width, group, f\"log_stable/c{channel}_w{width}_g{group}\")\n",
    "\n",
    "    # dense part\n",
    "    # print(bs())\n",
    "    bs.setup()\n",
    "    for name, layer in bs.layers.items():\n",
    "        res = test_stability(layer, 300, 5)\n",
    "        mean = np(res).mean()\n",
    "        std = np(res).std()\n",
    "        print(f\"layer={name} mean={mean} std={std}\")\n",
    "\n",
    "\n",
    "    # sparse part\n",
    "    # factors = get_factors(width)\n",
    "    # for g in factors:\n",
    "    #     for s in [0.25, 0.5, 0.75]:\n",
    "    #         s = int(s * ((width// g) ** 2))\n",
    "    #         print(bs(\"sparse\", s, g, True, True, True))\n",
    "\n"
   ]
  },
  {
   "cell_type": "code",
   "execution_count": 6,
   "metadata": {},
   "outputs": [
    {
     "name": "stderr",
     "output_type": "stream",
     "text": [
      "/usr/local/lib/python3.8/dist-packages/xgboost/training.py:17: UserWarning: Old style callback is deprecated.  See: https://xgboost.readthedocs.io/en/latest/python/callbacks.html\n",
      "  warnings.warn(f'Old style callback is deprecated.  See: {link}', UserWarning)\n",
      "/usr/local/lib/python3.8/dist-packages/xgboost/training.py:17: UserWarning: Old style callback is deprecated.  See: https://xgboost.readthedocs.io/en/latest/python/callbacks.html\n",
      "  warnings.warn(f'Old style callback is deprecated.  See: {link}', UserWarning)\n",
      "/usr/local/lib/python3.8/dist-packages/xgboost/training.py:17: UserWarning: Old style callback is deprecated.  See: https://xgboost.readthedocs.io/en/latest/python/callbacks.html\n",
      "  warnings.warn(f'Old style callback is deprecated.  See: {link}', UserWarning)\n",
      "/usr/local/lib/python3.8/dist-packages/xgboost/training.py:17: UserWarning: Old style callback is deprecated.  See: https://xgboost.readthedocs.io/en/latest/python/callbacks.html\n",
      "  warnings.warn(f'Old style callback is deprecated.  See: {link}', UserWarning)\n",
      "/usr/local/lib/python3.8/dist-packages/xgboost/training.py:17: UserWarning: Old style callback is deprecated.  See: https://xgboost.readthedocs.io/en/latest/python/callbacks.html\n",
      "  warnings.warn(f'Old style callback is deprecated.  See: {link}', UserWarning)\n",
      "/usr/local/lib/python3.8/dist-packages/xgboost/training.py:17: UserWarning: Old style callback is deprecated.  See: https://xgboost.readthedocs.io/en/latest/python/callbacks.html\n",
      "  warnings.warn(f'Old style callback is deprecated.  See: {link}', UserWarning)\n"
     ]
    },
    {
     "data": {
      "text/plain": [
       "([0.00044418884,\n",
       "  0.0005234641100000001,\n",
       "  0.0006026666299999999,\n",
       "  0.00030997701,\n",
       "  0.00030182296,\n",
       "  0.00020503444],\n",
       " [0.0, 0.0, 0.0, 0.0, 0.0, 0.0])"
      ]
     },
     "execution_count": 6,
     "metadata": {},
     "output_type": "execute_result"
    },
    {
     "data": {
      "image/png": "[encoded data removed]",
      "text/plain": [
       "<Figure size 432x288 with 1 Axes>"
      ]
     },
     "metadata": {
      "needs_background": "light"
     },
     "output_type": "display_data"
    }
   ],
   "source": [
    "# checking correctness\n",
    "s = Conv3x3GatheredScheduler(512, 4, 128, 2, logdir+\"/conv2.json\")\n",
    "test_perf_curve(s, list(range(100, 400, 50)), plot=True)"
   ]
  },
  {
   "cell_type": "code",
   "execution_count": null,
   "metadata": {},
   "outputs": [],
   "source": []
  }
 ],
 "metadata": {
  "interpreter": {
   "hash": "31f2aee4e71d21fbe5cf8b01ff0e069b9275f58929596ceb00d14d90e3e16cd6"
  },
  "kernelspec": {
   "display_name": "Python 3.8.0 64-bit",
   "language": "python",
   "name": "python3"
  },
  "language_info": {
   "codemirror_mode": {
    "name": "ipython",
    "version": 3
   },
   "file_extension": ".py",
   "mimetype": "text/x-python",
   "name": "python",
   "nbconvert_exporter": "python",
   "pygments_lexer": "ipython3",
   "version": "3.8.0"
  },
  "orig_nbformat": 4
 },
 "nbformat": 4,
 "nbformat_minor": 2
}
