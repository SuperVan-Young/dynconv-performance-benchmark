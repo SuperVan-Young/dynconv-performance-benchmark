{
 "cells": [
  {
   "cell_type": "code",
   "execution_count": 1,
   "metadata": {},
   "outputs": [
    {
     "name": "stderr",
     "output_type": "stream",
     "text": [
      "/usr/local/lib/python3.8/dist-packages/tqdm/auto.py:22: TqdmWarning: IProgress not found. Please update jupyter and ipywidgets. See https://ipywidgets.readthedocs.io/en/stable/user_install.html\n",
      "  from .autonotebook import tqdm as notebook_tqdm\n"
     ]
    }
   ],
   "source": [
    "import sys\n",
    "sys.path.append(\"..\")\n",
    "import numpy as np\n",
    "import os\n",
    "from functools import reduce\n",
    "import json\n",
    "\n",
    "from layers import *\n",
    "from blocks import *\n",
    "from utils import *"
   ]
  },
  {
   "cell_type": "code",
   "execution_count": 2,
   "metadata": {},
   "outputs": [
    {
     "name": "stderr",
     "output_type": "stream",
     "text": [
      "maskconv1:   0%|          | 0/7 [00:00<?, ?it/s]/usr/local/lib/python3.8/dist-packages/xgboost/compat.py:36: FutureWarning: pandas.Int64Index is deprecated and will be removed from pandas in a future version. Use pandas.Index with the appropriate dtype instead.\n",
      "  from pandas import MultiIndex, Int64Index\n",
      "scatter_add: 100%|██████████| 7/7 [04:24<00:00, 37.76s/it]\n"
     ]
    },
    {
     "name": "stdout",
     "output_type": "stream",
     "text": [
      "All layers in TVMBlockEvaluator are autotuned.\n"
     ]
    },
    {
     "name": "stderr",
     "output_type": "stream",
     "text": [
      "conv3: 100%|██████████| 3/3 [01:36<00:00, 32.30s/it]\n"
     ]
    },
    {
     "name": "stdout",
     "output_type": "stream",
     "text": [
      "All layers in TVMBlockEvaluator are autotuned.\n"
     ]
    },
    {
     "name": "stderr",
     "output_type": "stream",
     "text": [
      "scatter_add: 100%|██████████| 7/7 [04:37<00:00, 39.63s/it]\n"
     ]
    },
    {
     "name": "stdout",
     "output_type": "stream",
     "text": [
      "All layers in TVMBlockEvaluator are autotuned.\n"
     ]
    },
    {
     "name": "stderr",
     "output_type": "stream",
     "text": [
      "conv1:   0%|          | 0/3 [00:00<?, ?it/s]Exception ignored in: <function Tracker.__del__ at 0x7f35dcf44670>\n",
      "Traceback (most recent call last):\n",
      "  File \"/usr/local/lib/python3.8/dist-packages/tvm-0.9.dev913+gae285c6f0-py3.8-linux-x86_64.egg/tvm/rpc/tracker.py\", line 477, in __del__\n",
      "    self.terminate()\n",
      "  File \"/usr/local/lib/python3.8/dist-packages/tvm-0.9.dev913+gae285c6f0-py3.8-linux-x86_64.egg/tvm/rpc/tracker.py\", line 468, in terminate\n",
      "    self._stop_tracker()\n",
      "  File \"/usr/local/lib/python3.8/dist-packages/tvm-0.9.dev913+gae285c6f0-py3.8-linux-x86_64.egg/tvm/rpc/tracker.py\", line 461, in _stop_tracker\n",
      "    assert base.recvjson(sock) == TrackerCode.SUCCESS\n",
      "  File \"/usr/local/lib/python3.8/dist-packages/tvm-0.9.dev913+gae285c6f0-py3.8-linux-x86_64.egg/tvm/rpc/base.py\", line 118, in recvjson\n",
      "    size = struct.unpack(\"<i\", recvall(sock, 4))[0]\n",
      "  File \"/usr/local/lib/python3.8/dist-packages/tvm-0.9.dev913+gae285c6f0-py3.8-linux-x86_64.egg/tvm/rpc/base.py\", line 81, in recvall\n",
      "    chunk = sock.recv(min(nbytes - nread, 1024))\n",
      "KeyboardInterrupt: \n",
      "WARNING:RPCTracker:TCPSocket: ('127.0.0.1', 49960): Error in RPC Tracker: [Errno 32] Broken pipe\n",
      "conv2:  33%|███▎      | 1/3 [01:00<02:01, 60.99s/it]\n"
     ]
    },
    {
     "ename": "KeyboardInterrupt",
     "evalue": "",
     "output_type": "error",
     "traceback": [
      "\u001b[0;31m---------------------------------------------------------------------------\u001b[0m",
      "\u001b[0;31mKeyboardInterrupt\u001b[0m                         Traceback (most recent call last)",
      "\u001b[1;32m/root/dynconv-performance-benchmark/test/test.ipynb Cell 2'\u001b[0m in \u001b[0;36m<cell line: 12>\u001b[0;34m()\u001b[0m\n\u001b[1;32m     <a href='vscode-notebook-cell://ssh-remote%2B7b22686f73744e616d65223a224447582d6479636f6e762d646f636b6572227d/root/dynconv-performance-benchmark/test/test.ipynb#ch0000010vscode-remote?line=14'>15</a>\u001b[0m sparsity_setting \u001b[39m=\u001b[39m sampler\u001b[39m.\u001b[39mget_sparsity_setting(block_setting)\n\u001b[1;32m     <a href='vscode-notebook-cell://ssh-remote%2B7b22686f73744e616d65223a224447582d6479636f6e762d646f636b6572227d/root/dynconv-performance-benchmark/test/test.ipynb#ch0000010vscode-remote?line=16'>17</a>\u001b[0m res_sparse \u001b[39m=\u001b[39m run_tvm_block(mode\u001b[39m=\u001b[39m\u001b[39m\"\u001b[39m\u001b[39msparse\u001b[39m\u001b[39m\"\u001b[39m, \u001b[39m*\u001b[39m\u001b[39m*\u001b[39mblock_setting, \u001b[39m*\u001b[39m\u001b[39m*\u001b[39msparsity_setting)\n\u001b[0;32m---> <a href='vscode-notebook-cell://ssh-remote%2B7b22686f73744e616d65223a224447582d6479636f6e762d646f636b6572227d/root/dynconv-performance-benchmark/test/test.ipynb#ch0000010vscode-remote?line=17'>18</a>\u001b[0m res_dense \u001b[39m=\u001b[39m run_tvm_block(mode\u001b[39m=\u001b[39;49m\u001b[39m\"\u001b[39;49m\u001b[39mdense\u001b[39;49m\u001b[39m\"\u001b[39;49m, \u001b[39m*\u001b[39;49m\u001b[39m*\u001b[39;49mblock_setting, \u001b[39m*\u001b[39;49m\u001b[39m*\u001b[39;49msparsity_setting)\n\u001b[1;32m     <a href='vscode-notebook-cell://ssh-remote%2B7b22686f73744e616d65223a224447582d6479636f6e762d646f636b6572227d/root/dynconv-performance-benchmark/test/test.ipynb#ch0000010vscode-remote?line=19'>20</a>\u001b[0m sparse_total \u001b[39m=\u001b[39m reduce(\u001b[39mlambda\u001b[39;00m x, y: x\u001b[39m+\u001b[39my, res_sparse\u001b[39m.\u001b[39mvalues())\n\u001b[1;32m     <a href='vscode-notebook-cell://ssh-remote%2B7b22686f73744e616d65223a224447582d6479636f6e762d646f636b6572227d/root/dynconv-performance-benchmark/test/test.ipynb#ch0000010vscode-remote?line=20'>21</a>\u001b[0m dense_total \u001b[39m=\u001b[39m reduce(\u001b[39mlambda\u001b[39;00m x, y: x\u001b[39m+\u001b[39my, res_dense\u001b[39m.\u001b[39mvalues())\n",
      "\u001b[1;32m/root/dynconv-performance-benchmark/test/test.ipynb Cell 2'\u001b[0m in \u001b[0;36mrun_tvm_block\u001b[0;34m(**kwargs)\u001b[0m\n\u001b[1;32m      <a href='vscode-notebook-cell://ssh-remote%2B7b22686f73744e616d65223a224447582d6479636f6e762d646f636b6572227d/root/dynconv-performance-benchmark/test/test.ipynb#ch0000010vscode-remote?line=4'>5</a>\u001b[0m tvm_block \u001b[39m=\u001b[39m TVMBlockEvaluator(\u001b[39m*\u001b[39m\u001b[39m*\u001b[39mkwargs, n_trial\u001b[39m=\u001b[39m\u001b[39m50\u001b[39m) \u001b[39m# 100 takes about 15min\u001b[39;00m\n\u001b[1;32m      <a href='vscode-notebook-cell://ssh-remote%2B7b22686f73744e616d65223a224447582d6479636f6e762d646f636b6572227d/root/dynconv-performance-benchmark/test/test.ipynb#ch0000010vscode-remote?line=5'>6</a>\u001b[0m tvm_block\u001b[39m.\u001b[39msetup()\n\u001b[0;32m----> <a href='vscode-notebook-cell://ssh-remote%2B7b22686f73744e616d65223a224447582d6479636f6e762d646f636b6572227d/root/dynconv-performance-benchmark/test/test.ipynb#ch0000010vscode-remote?line=6'>7</a>\u001b[0m tvm_block\u001b[39m.\u001b[39;49mautotune()\n\u001b[1;32m      <a href='vscode-notebook-cell://ssh-remote%2B7b22686f73744e616d65223a224447582d6479636f6e762d646f636b6572227d/root/dynconv-performance-benchmark/test/test.ipynb#ch0000010vscode-remote?line=7'>8</a>\u001b[0m tvm_block\u001b[39m.\u001b[39mbuild()\n\u001b[1;32m      <a href='vscode-notebook-cell://ssh-remote%2B7b22686f73744e616d65223a224447582d6479636f6e762d646f636b6572227d/root/dynconv-performance-benchmark/test/test.ipynb#ch0000010vscode-remote?line=8'>9</a>\u001b[0m \u001b[39mreturn\u001b[39;00m tvm_block\u001b[39m.\u001b[39mevaluate(verbose\u001b[39m=\u001b[39m\u001b[39mTrue\u001b[39;00m)\n",
      "File \u001b[0;32m~/dynconv-performance-benchmark/blocks/base.py:50\u001b[0m, in \u001b[0;36mBaseBlockEvaluator.autotune\u001b[0;34m(self)\u001b[0m\n\u001b[1;32m     <a href='file:///~/dynconv-performance-benchmark/blocks/base.py?line=47'>48</a>\u001b[0m \u001b[39mfor\u001b[39;00m name, layer \u001b[39min\u001b[39;00m bar:\n\u001b[1;32m     <a href='file:///~/dynconv-performance-benchmark/blocks/base.py?line=48'>49</a>\u001b[0m     bar\u001b[39m.\u001b[39mset_description(name)\n\u001b[0;32m---> <a href='file:///~/dynconv-performance-benchmark/blocks/base.py?line=49'>50</a>\u001b[0m     layer\u001b[39m.\u001b[39;49mautotune()\n\u001b[1;32m     <a href='file:///~/dynconv-performance-benchmark/blocks/base.py?line=50'>51</a>\u001b[0m \u001b[39mprint\u001b[39m(\u001b[39mf\u001b[39m\u001b[39m\"\u001b[39m\u001b[39mAll layers in \u001b[39m\u001b[39m{\u001b[39;00m\u001b[39mself\u001b[39m\u001b[39m}\u001b[39;00m\u001b[39m are autotuned.\u001b[39m\u001b[39m\"\u001b[39m)\n",
      "File \u001b[0;32m~/dynconv-performance-benchmark/layers/base.py:104\u001b[0m, in \u001b[0;36mBaseLayerScheduler.autotune\u001b[0;34m(self, refresh)\u001b[0m\n\u001b[1;32m     <a href='file:///~/dynconv-performance-benchmark/layers/base.py?line=97'>98</a>\u001b[0m measure_option \u001b[39m=\u001b[39m autotvm\u001b[39m.\u001b[39mmeasure_option(\n\u001b[1;32m     <a href='file:///~/dynconv-performance-benchmark/layers/base.py?line=98'>99</a>\u001b[0m     builder\u001b[39m=\u001b[39mautotvm\u001b[39m.\u001b[39mLocalBuilder(),\n\u001b[1;32m    <a href='file:///~/dynconv-performance-benchmark/layers/base.py?line=99'>100</a>\u001b[0m     runner\u001b[39m=\u001b[39mautotvm\u001b[39m.\u001b[39mLocalRunner(repeat\u001b[39m=\u001b[39m\u001b[39m3\u001b[39m, min_repeat_ms\u001b[39m=\u001b[39m\u001b[39m150\u001b[39m, timeout\u001b[39m=\u001b[39m\u001b[39m4\u001b[39m),\n\u001b[1;32m    <a href='file:///~/dynconv-performance-benchmark/layers/base.py?line=100'>101</a>\u001b[0m )\n\u001b[1;32m    <a href='file:///~/dynconv-performance-benchmark/layers/base.py?line=102'>103</a>\u001b[0m tuner \u001b[39m=\u001b[39m autotvm\u001b[39m.\u001b[39mtuner\u001b[39m.\u001b[39mXGBTuner(task)\n\u001b[0;32m--> <a href='file:///~/dynconv-performance-benchmark/layers/base.py?line=103'>104</a>\u001b[0m tuner\u001b[39m.\u001b[39;49mtune(\n\u001b[1;32m    <a href='file:///~/dynconv-performance-benchmark/layers/base.py?line=104'>105</a>\u001b[0m     n_trial\u001b[39m=\u001b[39;49m\u001b[39mself\u001b[39;49m\u001b[39m.\u001b[39;49mn_trial,\n\u001b[1;32m    <a href='file:///~/dynconv-performance-benchmark/layers/base.py?line=105'>106</a>\u001b[0m     measure_option\u001b[39m=\u001b[39;49mmeasure_option,\n\u001b[1;32m    <a href='file:///~/dynconv-performance-benchmark/layers/base.py?line=106'>107</a>\u001b[0m     callbacks\u001b[39m=\u001b[39;49m[autotvm\u001b[39m.\u001b[39;49mcallback\u001b[39m.\u001b[39;49mlog_to_file(\u001b[39mself\u001b[39;49m\u001b[39m.\u001b[39;49msave_path)],\n\u001b[1;32m    <a href='file:///~/dynconv-performance-benchmark/layers/base.py?line=107'>108</a>\u001b[0m )\n",
      "File \u001b[0;32m/usr/local/lib/python3.8/dist-packages/tvm-0.9.dev913+gae285c6f0-py3.8-linux-x86_64.egg/tvm/autotvm/tuner/xgboost_tuner.py:105\u001b[0m, in \u001b[0;36mXGBTuner.tune\u001b[0;34m(self, *args, **kwargs)\u001b[0m\n\u001b[1;32m    <a href='file:///usr/local/lib/python3.8/dist-packages/tvm-0.9.dev913%2Bgae285c6f0-py3.8-linux-x86_64.egg/tvm/autotvm/tuner/xgboost_tuner.py?line=103'>104</a>\u001b[0m \u001b[39mdef\u001b[39;00m \u001b[39mtune\u001b[39m(\u001b[39mself\u001b[39m, \u001b[39m*\u001b[39margs, \u001b[39m*\u001b[39m\u001b[39m*\u001b[39mkwargs):  \u001b[39m# pylint: disable=arguments-differ\u001b[39;00m\n\u001b[0;32m--> <a href='file:///usr/local/lib/python3.8/dist-packages/tvm-0.9.dev913%2Bgae285c6f0-py3.8-linux-x86_64.egg/tvm/autotvm/tuner/xgboost_tuner.py?line=104'>105</a>\u001b[0m     \u001b[39msuper\u001b[39;49m(XGBTuner, \u001b[39mself\u001b[39;49m)\u001b[39m.\u001b[39;49mtune(\u001b[39m*\u001b[39;49margs, \u001b[39m*\u001b[39;49m\u001b[39m*\u001b[39;49mkwargs)\n\u001b[1;32m    <a href='file:///usr/local/lib/python3.8/dist-packages/tvm-0.9.dev913%2Bgae285c6f0-py3.8-linux-x86_64.egg/tvm/autotvm/tuner/xgboost_tuner.py?line=106'>107</a>\u001b[0m     \u001b[39m# manually close pool to avoid multiprocessing issues\u001b[39;00m\n\u001b[1;32m    <a href='file:///usr/local/lib/python3.8/dist-packages/tvm-0.9.dev913%2Bgae285c6f0-py3.8-linux-x86_64.egg/tvm/autotvm/tuner/xgboost_tuner.py?line=107'>108</a>\u001b[0m     \u001b[39mself\u001b[39m\u001b[39m.\u001b[39mcost_model\u001b[39m.\u001b[39m_close_pool()\n",
      "File \u001b[0;32m/usr/local/lib/python3.8/dist-packages/tvm-0.9.dev913+gae285c6f0-py3.8-linux-x86_64.egg/tvm/autotvm/tuner/tuner.py:134\u001b[0m, in \u001b[0;36mTuner.tune\u001b[0;34m(self, n_trial, measure_option, early_stopping, callbacks, si_prefix)\u001b[0m\n\u001b[1;32m    <a href='file:///usr/local/lib/python3.8/dist-packages/tvm-0.9.dev913%2Bgae285c6f0-py3.8-linux-x86_64.egg/tvm/autotvm/tuner/tuner.py?line=130'>131</a>\u001b[0m configs \u001b[39m=\u001b[39m \u001b[39mself\u001b[39m\u001b[39m.\u001b[39mnext_batch(\u001b[39mmin\u001b[39m(n_parallel, n_trial \u001b[39m-\u001b[39m i))\n\u001b[1;32m    <a href='file:///usr/local/lib/python3.8/dist-packages/tvm-0.9.dev913%2Bgae285c6f0-py3.8-linux-x86_64.egg/tvm/autotvm/tuner/tuner.py?line=132'>133</a>\u001b[0m inputs \u001b[39m=\u001b[39m [MeasureInput(\u001b[39mself\u001b[39m\u001b[39m.\u001b[39mtask\u001b[39m.\u001b[39mtarget, \u001b[39mself\u001b[39m\u001b[39m.\u001b[39mtask, config) \u001b[39mfor\u001b[39;00m config \u001b[39min\u001b[39;00m configs]\n\u001b[0;32m--> <a href='file:///usr/local/lib/python3.8/dist-packages/tvm-0.9.dev913%2Bgae285c6f0-py3.8-linux-x86_64.egg/tvm/autotvm/tuner/tuner.py?line=133'>134</a>\u001b[0m results \u001b[39m=\u001b[39m measure_batch(inputs)\n\u001b[1;32m    <a href='file:///usr/local/lib/python3.8/dist-packages/tvm-0.9.dev913%2Bgae285c6f0-py3.8-linux-x86_64.egg/tvm/autotvm/tuner/tuner.py?line=135'>136</a>\u001b[0m \u001b[39m# keep best config\u001b[39;00m\n\u001b[1;32m    <a href='file:///usr/local/lib/python3.8/dist-packages/tvm-0.9.dev913%2Bgae285c6f0-py3.8-linux-x86_64.egg/tvm/autotvm/tuner/tuner.py?line=136'>137</a>\u001b[0m \u001b[39mfor\u001b[39;00m k, (inp, res) \u001b[39min\u001b[39;00m \u001b[39menumerate\u001b[39m(\u001b[39mzip\u001b[39m(inputs, results)):\n",
      "File \u001b[0;32m/usr/local/lib/python3.8/dist-packages/tvm-0.9.dev913+gae285c6f0-py3.8-linux-x86_64.egg/tvm/autotvm/measure/measure.py:291\u001b[0m, in \u001b[0;36mcreate_measure_batch.<locals>.measure_batch\u001b[0;34m(measure_inputs)\u001b[0m\n\u001b[1;32m    <a href='file:///usr/local/lib/python3.8/dist-packages/tvm-0.9.dev913%2Bgae285c6f0-py3.8-linux-x86_64.egg/tvm/autotvm/measure/measure.py?line=288'>289</a>\u001b[0m \u001b[39mdef\u001b[39;00m \u001b[39mmeasure_batch\u001b[39m(measure_inputs):\n\u001b[1;32m    <a href='file:///usr/local/lib/python3.8/dist-packages/tvm-0.9.dev913%2Bgae285c6f0-py3.8-linux-x86_64.egg/tvm/autotvm/measure/measure.py?line=289'>290</a>\u001b[0m     build_results \u001b[39m=\u001b[39m builder\u001b[39m.\u001b[39mbuild(measure_inputs)\n\u001b[0;32m--> <a href='file:///usr/local/lib/python3.8/dist-packages/tvm-0.9.dev913%2Bgae285c6f0-py3.8-linux-x86_64.egg/tvm/autotvm/measure/measure.py?line=290'>291</a>\u001b[0m     results \u001b[39m=\u001b[39m runner\u001b[39m.\u001b[39;49mrun(measure_inputs, build_results)\n\u001b[1;32m    <a href='file:///usr/local/lib/python3.8/dist-packages/tvm-0.9.dev913%2Bgae285c6f0-py3.8-linux-x86_64.egg/tvm/autotvm/measure/measure.py?line=291'>292</a>\u001b[0m     \u001b[39mreturn\u001b[39;00m results\n",
      "File \u001b[0;32m/usr/local/lib/python3.8/dist-packages/tvm-0.9.dev913+gae285c6f0-py3.8-linux-x86_64.egg/tvm/autotvm/measure/measure_methods.py:390\u001b[0m, in \u001b[0;36mRPCRunner.run\u001b[0;34m(self, measure_inputs, build_results)\u001b[0m\n\u001b[1;32m    <a href='file:///usr/local/lib/python3.8/dist-packages/tvm-0.9.dev913%2Bgae285c6f0-py3.8-linux-x86_64.egg/tvm/autotvm/measure/measure_methods.py?line=387'>388</a>\u001b[0m \u001b[39mfor\u001b[39;00m future \u001b[39min\u001b[39;00m futures:\n\u001b[1;32m    <a href='file:///usr/local/lib/python3.8/dist-packages/tvm-0.9.dev913%2Bgae285c6f0-py3.8-linux-x86_64.egg/tvm/autotvm/measure/measure_methods.py?line=388'>389</a>\u001b[0m     \u001b[39mtry\u001b[39;00m:\n\u001b[0;32m--> <a href='file:///usr/local/lib/python3.8/dist-packages/tvm-0.9.dev913%2Bgae285c6f0-py3.8-linux-x86_64.egg/tvm/autotvm/measure/measure_methods.py?line=389'>390</a>\u001b[0m         res \u001b[39m=\u001b[39m future\u001b[39m.\u001b[39;49mresult()\n\u001b[1;32m    <a href='file:///usr/local/lib/python3.8/dist-packages/tvm-0.9.dev913%2Bgae285c6f0-py3.8-linux-x86_64.egg/tvm/autotvm/measure/measure_methods.py?line=390'>391</a>\u001b[0m         results\u001b[39m.\u001b[39mappend(res)\n\u001b[1;32m    <a href='file:///usr/local/lib/python3.8/dist-packages/tvm-0.9.dev913%2Bgae285c6f0-py3.8-linux-x86_64.egg/tvm/autotvm/measure/measure_methods.py?line=391'>392</a>\u001b[0m     \u001b[39mexcept\u001b[39;00m \u001b[39mException\u001b[39;00m \u001b[39mas\u001b[39;00m ex:  \u001b[39m# pylint: disable=broad-except\u001b[39;00m\n",
      "File \u001b[0;32m/usr/lib/python3.8/concurrent/futures/_base.py:434\u001b[0m, in \u001b[0;36mFuture.result\u001b[0;34m(self, timeout)\u001b[0m\n\u001b[1;32m    <a href='file:///usr/lib/python3.8/concurrent/futures/_base.py?line=430'>431</a>\u001b[0m \u001b[39melif\u001b[39;00m \u001b[39mself\u001b[39m\u001b[39m.\u001b[39m_state \u001b[39m==\u001b[39m FINISHED:\n\u001b[1;32m    <a href='file:///usr/lib/python3.8/concurrent/futures/_base.py?line=431'>432</a>\u001b[0m     \u001b[39mreturn\u001b[39;00m \u001b[39mself\u001b[39m\u001b[39m.\u001b[39m__get_result()\n\u001b[0;32m--> <a href='file:///usr/lib/python3.8/concurrent/futures/_base.py?line=433'>434</a>\u001b[0m \u001b[39mself\u001b[39;49m\u001b[39m.\u001b[39;49m_condition\u001b[39m.\u001b[39;49mwait(timeout)\n\u001b[1;32m    <a href='file:///usr/lib/python3.8/concurrent/futures/_base.py?line=435'>436</a>\u001b[0m \u001b[39mif\u001b[39;00m \u001b[39mself\u001b[39m\u001b[39m.\u001b[39m_state \u001b[39min\u001b[39;00m [CANCELLED, CANCELLED_AND_NOTIFIED]:\n\u001b[1;32m    <a href='file:///usr/lib/python3.8/concurrent/futures/_base.py?line=436'>437</a>\u001b[0m     \u001b[39mraise\u001b[39;00m CancelledError()\n",
      "File \u001b[0;32m/usr/lib/python3.8/threading.py:302\u001b[0m, in \u001b[0;36mCondition.wait\u001b[0;34m(self, timeout)\u001b[0m\n\u001b[1;32m    <a href='file:///usr/lib/python3.8/threading.py?line=299'>300</a>\u001b[0m \u001b[39mtry\u001b[39;00m:    \u001b[39m# restore state no matter what (e.g., KeyboardInterrupt)\u001b[39;00m\n\u001b[1;32m    <a href='file:///usr/lib/python3.8/threading.py?line=300'>301</a>\u001b[0m     \u001b[39mif\u001b[39;00m timeout \u001b[39mis\u001b[39;00m \u001b[39mNone\u001b[39;00m:\n\u001b[0;32m--> <a href='file:///usr/lib/python3.8/threading.py?line=301'>302</a>\u001b[0m         waiter\u001b[39m.\u001b[39;49macquire()\n\u001b[1;32m    <a href='file:///usr/lib/python3.8/threading.py?line=302'>303</a>\u001b[0m         gotit \u001b[39m=\u001b[39m \u001b[39mTrue\u001b[39;00m\n\u001b[1;32m    <a href='file:///usr/lib/python3.8/threading.py?line=303'>304</a>\u001b[0m     \u001b[39melse\u001b[39;00m:\n",
      "\u001b[0;31mKeyboardInterrupt\u001b[0m: "
     ]
    }
   ],
   "source": [
    "# test tvm block evaluator on multiple points\n",
    "logpath = \"blockResult.json\"\n",
    "\n",
    "def run_tvm_block(**kwargs):\n",
    "    tvm_block = TVMBlockEvaluator(**kwargs, n_trial=50) # 100 takes about 15min\n",
    "    tvm_block.setup()\n",
    "    tvm_block.autotune()\n",
    "    tvm_block.build()\n",
    "    return tvm_block.evaluate(verbose=True)\n",
    "\n",
    "sampler = SearchSpaceSampler()\n",
    "for i in range(10):\n",
    "    block_setting = sampler.get_block_setting()\n",
    "    for j in range(3):\n",
    "        sparsity_setting = sampler.get_sparsity_setting(block_setting)\n",
    "\n",
    "        res_sparse = run_tvm_block(mode=\"sparse\", **block_setting, **sparsity_setting)\n",
    "        res_dense = run_tvm_block(mode=\"dense\", **block_setting, **sparsity_setting)\n",
    "\n",
    "        sparse_total = reduce(lambda x, y: x+y, res_sparse.values())\n",
    "        dense_total = reduce(lambda x, y: x+y, res_dense.values())\n",
    "\n",
    "        res_sparse = {k: f\"{v / sparse_total:.4%}\" for k, v in res_sparse.items()}\n",
    "        res_dense = {k: f\"{v / dense_total:.4%}\" for k, v in res_dense.items()}\n",
    "\n",
    "        record = {\n",
    "            \"setting\": [*block_setting.values(), *sparsity_setting.values()],\n",
    "            \"sparse_total\": f\"{sparse_total*1000:.4f}ms\",\n",
    "            \"dense_total\": f\"{dense_total*1000:.4f}ms\",\n",
    "            \"sparse_detail\": res_sparse,\n",
    "            \"dense_detail\": res_dense,\n",
    "        }\n",
    "\n",
    "        with open(logpath, \"a+\") as f:\n",
    "            f.write(json.dumps(record) + \"\\n\")\n",
    "        "
   ]
  },
  {
   "cell_type": "code",
   "execution_count": 2,
   "metadata": {},
   "outputs": [
    {
     "name": "stderr",
     "output_type": "stream",
     "text": [
      "maskconv1:   0%|          | 0/7 [00:00<?, ?it/s]/usr/local/lib/python3.8/dist-packages/xgboost/compat.py:36: FutureWarning: pandas.Int64Index is deprecated and will be removed from pandas in a future version. Use pandas.Index with the appropriate dtype instead.\n",
      "  from pandas import MultiIndex, Int64Index\n",
      "scatter_add: 100%|██████████| 7/7 [01:58<00:00, 16.98s/it]\n"
     ]
    },
    {
     "name": "stdout",
     "output_type": "stream",
     "text": [
      "All layers in TVMBlockEvaluator are autotuned.\n"
     ]
    },
    {
     "data": {
      "text/plain": [
       "0.0024408402700000003"
      ]
     },
     "execution_count": 2,
     "metadata": {},
     "output_type": "execute_result"
    }
   ],
   "source": [
    "# test tvm block evaluator\n",
    "tvm_sparse_block = TVMBlockEvaluator(\"sparse\", 512, 4, 56, 2, 28, 4, n_trial=20)\n",
    "tvm_sparse_block.setup()\n",
    "tvm_sparse_block.autotune()\n",
    "tvm_sparse_block.build()\n",
    "tvm_sparse_block.evaluate(verbose=True)\n",
    "tvm_sparse_block.evaluate()"
   ]
  },
  {
   "cell_type": "code",
   "execution_count": 3,
   "metadata": {},
   "outputs": [
    {
     "name": "stderr",
     "output_type": "stream",
     "text": [
      "conv3: 100%|██████████| 3/3 [00:53<00:00, 17.91s/it]\n"
     ]
    },
    {
     "name": "stdout",
     "output_type": "stream",
     "text": [
      "All layers in TVMBlockEvaluator are autotuned.\n"
     ]
    },
    {
     "data": {
      "text/plain": [
       "0.02364724026"
      ]
     },
     "execution_count": 3,
     "metadata": {},
     "output_type": "execute_result"
    }
   ],
   "source": [
    "tvm_dense_block = TVMBlockEvaluator(\"dense\", 512, 4, 56, 2, 28, 4, n_trial=20)\n",
    "tvm_dense_block.setup()\n",
    "tvm_dense_block.autotune()\n",
    "tvm_dense_block.build()\n",
    "tvm_dense_block.evaluate(verbose=True)\n",
    "tvm_dense_block.evaluate()"
   ]
  },
  {
   "cell_type": "code",
   "execution_count": 2,
   "metadata": {},
   "outputs": [
    {
     "name": "stderr",
     "output_type": "stream",
     "text": [
      "/usr/local/lib/python3.8/dist-packages/xgboost/compat.py:36: FutureWarning: pandas.Int64Index is deprecated and will be removed from pandas in a future version. Use pandas.Index with the appropriate dtype instead.\n",
      "  from pandas import MultiIndex, Int64Index\n"
     ]
    },
    {
     "data": {
      "text/plain": [
       "0.00235651856"
      ]
     },
     "execution_count": 2,
     "metadata": {},
     "output_type": "execute_result"
    }
   ],
   "source": [
    "# test conv dense scheduler\n",
    "conv_dense_scheduler = ConvDenseScheduler(128, 512, 64, 3, \"log/conv3x3_dense.log\")\n",
    "conv_dense_scheduler.n_trial = 50\n",
    "conv_dense_scheduler.rtol = 1e-5\n",
    "conv_dense_scheduler.atol = 1e-3\n",
    "conv_dense_scheduler.autotune(refresh=True)\n",
    "conv_dense_scheduler.build(display=False)\n",
    "conv_dense_scheduler.check(runtype=\"pytorch\")\n",
    "conv_dense_scheduler.evaluate()"
   ]
  },
  {
   "cell_type": "code",
   "execution_count": 3,
   "metadata": {},
   "outputs": [
    {
     "data": {
      "text/plain": [
       "0.00020397229"
      ]
     },
     "execution_count": 3,
     "metadata": {},
     "output_type": "execute_result"
    }
   ],
   "source": [
    "# test conv dense scheduler\n",
    "conv_dense_scheduler = ConvDenseScheduler(128, 512, 64, 1, \"log/conv1x1_dense.log\")\n",
    "conv_dense_scheduler.n_trial = 50\n",
    "conv_dense_scheduler.rtol = 1e-5\n",
    "conv_dense_scheduler.atol = 1e-3\n",
    "conv_dense_scheduler.autotune(refresh=True)\n",
    "conv_dense_scheduler.build(display=False)\n",
    "conv_dense_scheduler.check(runtype=\"pytorch\")\n",
    "conv_dense_scheduler.evaluate()"
   ]
  },
  {
   "cell_type": "code",
   "execution_count": 5,
   "metadata": {},
   "outputs": [
    {
     "data": {
      "text/plain": [
       "2.348793e-05"
      ]
     },
     "execution_count": 5,
     "metadata": {},
     "output_type": "execute_result"
    }
   ],
   "source": [
    "# test conv1x1 gathered scheduler\n",
    "conv1x1_gathered_scheduler = Conv1x1GatheredScheduler(512, 128, 128, 2, \"log/conv1x1_gathered.log\")\n",
    "conv1x1_gathered_scheduler.n_trial = 50\n",
    "conv1x1_gathered_scheduler.rtol = 1e-5\n",
    "conv1x1_gathered_scheduler.atol = 1e-3\n",
    "conv1x1_gathered_scheduler.autotune(refresh=True)\n",
    "conv1x1_gathered_scheduler.build(display=False)\n",
    "conv1x1_gathered_scheduler.check(runtype=\"pytorch\")\n",
    "conv1x1_gathered_scheduler.evaluate()"
   ]
  },
  {
   "cell_type": "code",
   "execution_count": 2,
   "metadata": {},
   "outputs": [
    {
     "name": "stderr",
     "output_type": "stream",
     "text": [
      "/usr/local/lib/python3.8/dist-packages/xgboost/compat.py:36: FutureWarning: pandas.Int64Index is deprecated and will be removed from pandas in a future version. Use pandas.Index with the appropriate dtype instead.\n",
      "  from pandas import MultiIndex, Int64Index\n"
     ]
    },
    {
     "data": {
      "text/plain": [
       "9.848044e-05"
      ]
     },
     "execution_count": 2,
     "metadata": {},
     "output_type": "execute_result"
    }
   ],
   "source": [
    "# test scatter add\n",
    "scatter_add_scheduler = ScatterAddScheduler(64, 512, 128, 2, \"log/scatter_add.log\")\n",
    "scatter_add_scheduler.n_trial = 10\n",
    "scatter_add_scheduler.autotune(refresh=True)\n",
    "scatter_add_scheduler.build(display=False)\n",
    "scatter_add_scheduler.check()\n",
    "scatter_add_scheduler.evaluate()"
   ]
  },
  {
   "cell_type": "code",
   "execution_count": null,
   "metadata": {},
   "outputs": [
    {
     "data": {
      "text/plain": [
       "0.0005954454"
      ]
     },
     "execution_count": 5,
     "metadata": {},
     "output_type": "execute_result"
    }
   ],
   "source": [
    "# test conv3x3 gathered scheduler\n",
    "conv3x3_gathered_scheduler = Conv3x3GatheredScheduler(512, 4, 128, 2, \"log/conv3x3_gathered.log\")\n",
    "conv3x3_gathered_scheduler.n_trial = 50\n",
    "conv3x3_gathered_scheduler.rtol = 1e-5\n",
    "conv3x3_gathered_scheduler.atol = 1e-3\n",
    "conv3x3_gathered_scheduler.autotune(refresh=True)\n",
    "conv3x3_gathered_scheduler.build(display=False)\n",
    "conv3x3_gathered_scheduler.check(runtype=\"pytorch\")\n",
    "\n",
    "# sample = conv3x3_gathered_scheduler._generate_sample()\n",
    "# res_tvm = conv3x3_gathered_scheduler._run_tvm(sample)\n",
    "# res_pytorch = conv3x3_gathered_scheduler._run_pytorch(sample)\n",
    "# for i in range(128):\n",
    "#     for j in range(512):\n",
    "#         if np.sum(res_tvm[i, j, :] - res_pytorch[i, j, :]) > 1e-2:\n",
    "#             print(i, j)\n",
    "\n",
    "conv3x3_gathered_scheduler.evaluate()"
   ]
  },
  {
   "cell_type": "code",
   "execution_count": null,
   "metadata": {},
   "outputs": [
    {
     "name": "stderr",
     "output_type": "stream",
     "text": [
      "/usr/local/lib/python3.8/dist-packages/xgboost/compat.py:36: FutureWarning: pandas.Int64Index is deprecated and will be removed from pandas in a future version. Use pandas.Index with the appropriate dtype instead.\n",
      "  from pandas import MultiIndex, Int64Index\n"
     ]
    },
    {
     "data": {
      "text/plain": [
       "2.398621e-05"
      ]
     },
     "execution_count": 3,
     "metadata": {},
     "output_type": "execute_result"
    }
   ],
   "source": [
    "# test gather scheduler\n",
    "gather_scheduler = GatherScheduler(64, 512, 128, 2, \"log/gather.log\")\n",
    "gather_scheduler.n_trial = 10\n",
    "gather_scheduler.autotune(refresh=True)\n",
    "gather_scheduler.build(display=False)\n",
    "gather_scheduler.check()\n",
    "gather_scheduler.evaluate()"
   ]
  },
  {
   "cell_type": "code",
   "execution_count": null,
   "metadata": {},
   "outputs": [],
   "source": []
  }
 ],
 "metadata": {
  "interpreter": {
   "hash": "31f2aee4e71d21fbe5cf8b01ff0e069b9275f58929596ceb00d14d90e3e16cd6"
  },
  "kernelspec": {
   "display_name": "Python 3.8.0 64-bit",
   "language": "python",
   "name": "python3"
  },
  "language_info": {
   "codemirror_mode": {
    "name": "ipython",
    "version": 3
   },
   "file_extension": ".py",
   "mimetype": "text/x-python",
   "name": "python",
   "nbconvert_exporter": "python",
   "pygments_lexer": "ipython3",
   "version": "3.8.0"
  },
  "orig_nbformat": 4
 },
 "nbformat": 4,
 "nbformat_minor": 2
}
