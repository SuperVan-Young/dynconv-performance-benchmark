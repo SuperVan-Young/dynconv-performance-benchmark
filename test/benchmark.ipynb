{
 "cells": [
  {
   "cell_type": "code",
   "execution_count": 24,
   "metadata": {},
   "outputs": [],
   "source": [
    "import torch\n",
    "import torch.nn as nn\n",
    "import torch.nn.functional as F\n",
    "from torch.utils import benchmark\n",
    "import os\n",
    "import json"
   ]
  },
  {
   "cell_type": "code",
   "execution_count": 25,
   "metadata": {},
   "outputs": [],
   "source": [
    "DEBUG = 0\n",
    "device = torch.device(\"cuda\")\n",
    "logpath = \"benchmark.json\"\n",
    "if os.path.exists(logpath):\n",
    "    os.remove(logpath)"
   ]
  },
  {
   "cell_type": "code",
   "execution_count": 26,
   "metadata": {},
   "outputs": [],
   "source": [
    "\n",
    "\n",
    "widths = [56, 28, 14, 7] if not DEBUG else [56]\n",
    "\n",
    "def regnet_parameters(num):\n",
    "    channels = None\n",
    "    group = None\n",
    "\n",
    "    if num == \"002\":\n",
    "        channels = [24, 56, 152, 368]\n",
    "        group = 8\n",
    "    elif num == \"004\":\n",
    "        channels = [32, 64, 160, 384]\n",
    "        group = 16\n",
    "    elif num == \"006\":\n",
    "        channels = [48, 96, 240, 528]\n",
    "        group = 24\n",
    "    elif num == \"008\":\n",
    "        channels = [64, 128, 288, 672]\n",
    "        group = 16\n",
    "    else:\n",
    "        raise NotImplementedError\n",
    "\n",
    "    return channels, group if not DEBUG else ([64], 16)"
   ]
  },
  {
   "cell_type": "code",
   "execution_count": 35,
   "metadata": {},
   "outputs": [],
   "source": [
    "def run_conv(conv, x, repeat=100):\n",
    "    timer = benchmark.Timer(\n",
    "        stmt=\"conv(x)\",\n",
    "        globals={'conv': conv, 'x': x},\n",
    "    )\n",
    "    res = timer.timeit(repeat).raw_times[0]\n",
    "    return res / repeat\n",
    "\n",
    "def run_add(x, repeat=100):\n",
    "    timer = benchmark.Timer(\n",
    "        stmt = \"x + x\",\n",
    "        globals={'x': x}\n",
    "    )\n",
    "    res = timer.timeit(repeat).raw_times[0]\n",
    "    return res / repeat\n",
    "\n",
    "\n",
    "class ResidualBlock(nn.Module):\n",
    "    def __init__(self, channels, width, group):\n",
    "        super().__init__()\n",
    "        self.conv1 = nn.Conv2d(channels, channels, 1, stride=1, padding=0, dilation=1, groups=1, bias=False)\n",
    "        self.conv2 = nn.Conv2d(channels, channels, 3, stride=1, padding=1, dilation=1, groups=group, bias=False)\n",
    "        self.conv3 = nn.Conv2d(channels, channels, 1, stride=1, padding=0, dilation=1, groups=1, bias=False)\n",
    "        self.channels = channels\n",
    "        self.width = width\n",
    "        self.group = group\n",
    "    \n",
    "    def forward(self, x):\n",
    "        out = self.conv1(x)\n",
    "        out = self.conv2(out)\n",
    "        out = self.conv3(out)\n",
    "        out += x\n",
    "        return out\n",
    "\n",
    "    def speedtest(self):\n",
    "        x = torch.randn((1, self.channels, self.width, self.width))\n",
    "        t1 = run_conv(self.conv1, x)\n",
    "        t2 = run_conv(self.conv2, x)\n",
    "        t3 = run_conv(self.conv3, x)\n",
    "        ta = run_add(x)\n",
    "        res =  {\n",
    "            \"channel\": self.channels,\n",
    "            \"width\": self.width,\n",
    "            \"group\": self.group,\n",
    "            \"conv1\": t1,\n",
    "            \"conv2\": t2,\n",
    "            \"conv3\": t3,\n",
    "            \"add\": ta,\n",
    "        }\n",
    "        with open(logpath, \"a+\") as f:\n",
    "            f.write(json.dumps(res) + \"\\n\")\n",
    "\n"
   ]
  },
  {
   "cell_type": "code",
   "execution_count": 36,
   "metadata": {},
   "outputs": [],
   "source": [
    "for num in [\"002\", \"004\", \"006\", \"008\"]:\n",
    "    channels, group = regnet_parameters(num)\n",
    "    for i, width in enumerate(widths):\n",
    "        channel = channels[i]\n",
    "        rb = ResidualBlock(channel, width, group)\n",
    "        rb.speedtest()"
   ]
  },
  {
   "cell_type": "code",
   "execution_count": null,
   "metadata": {},
   "outputs": [],
   "source": []
  }
 ],
 "metadata": {
  "interpreter": {
   "hash": "31f2aee4e71d21fbe5cf8b01ff0e069b9275f58929596ceb00d14d90e3e16cd6"
  },
  "kernelspec": {
   "display_name": "Python 3.8.0 64-bit",
   "language": "python",
   "name": "python3"
  },
  "language_info": {
   "codemirror_mode": {
    "name": "ipython",
    "version": 3
   },
   "file_extension": ".py",
   "mimetype": "text/x-python",
   "name": "python",
   "nbconvert_exporter": "python",
   "pygments_lexer": "ipython3",
   "version": "3.8.0"
  },
  "orig_nbformat": 4
 },
 "nbformat": 4,
 "nbformat_minor": 2
}
