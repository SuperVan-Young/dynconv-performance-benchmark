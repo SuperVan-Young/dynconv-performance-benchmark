{
 "cells": [
  {
   "cell_type": "code",
   "execution_count": 1,
   "metadata": {},
   "outputs": [
    {
     "name": "stderr",
     "output_type": "stream",
     "text": [
      "/usr/local/lib/python3.8/dist-packages/tqdm/auto.py:22: TqdmWarning: IProgress not found. Please update jupyter and ipywidgets. See https://ipywidgets.readthedocs.io/en/stable/user_install.html\n",
      "  from .autonotebook import tqdm as notebook_tqdm\n"
     ]
    }
   ],
   "source": [
    "import sys\n",
    "sys.path.append(\"../..\")\n",
    "import numpy as np\n",
    "import os\n",
    "from functools import reduce\n",
    "import json\n",
    "\n",
    "from layers import *\n",
    "from blocks import *\n",
    "from utils import *"
   ]
  },
  {
   "cell_type": "code",
   "execution_count": 2,
   "metadata": {},
   "outputs": [],
   "source": [
    "if not os.path.exists(\"log\"):\n",
    "    os.mkdir(\"log\")"
   ]
  },
  {
   "cell_type": "code",
   "execution_count": 6,
   "metadata": {},
   "outputs": [
    {
     "data": {
      "text/plain": [
       "2.4450399999999997e-06"
      ]
     },
     "execution_count": 6,
     "metadata": {},
     "output_type": "execute_result"
    }
   ],
   "source": [
    "# test add scheduler\n",
    "s = AddScheduler(128, 14, \"log/add.log\")\n",
    "s.n_trial = 40\n",
    "s.rtol = 1e-5\n",
    "s.atol = 1e-3\n",
    "s.autotune(refresh=True)\n",
    "s.build(display=False)\n",
    "s.check(runtype=\"numpy\")\n",
    "s.evaluate()"
   ]
  },
  {
   "cell_type": "code",
   "execution_count": 4,
   "metadata": {},
   "outputs": [
    {
     "name": "stderr",
     "output_type": "stream",
     "text": [
      "/usr/local/lib/python3.8/dist-packages/xgboost/compat.py:36: FutureWarning: pandas.Int64Index is deprecated and will be removed from pandas in a future version. Use pandas.Index with the appropriate dtype instead.\n",
      "  from pandas import MultiIndex, Int64Index\n"
     ]
    },
    {
     "ename": "KeyboardInterrupt",
     "evalue": "",
     "output_type": "error",
     "traceback": [
      "\u001b[0;31m---------------------------------------------------------------------------\u001b[0m",
      "\u001b[0;31mKeyboardInterrupt\u001b[0m                         Traceback (most recent call last)",
      "\u001b[1;32m/root/dynconv-performance-benchmark/test1/validity/validity.ipynb Cell 4'\u001b[0m in \u001b[0;36m<cell line: 6>\u001b[0;34m()\u001b[0m\n\u001b[1;32m      <a href='vscode-notebook-cell://ssh-remote%2B7b22686f73744e616d65223a224447582d6479636f6e762d646f636b6572227d/root/dynconv-performance-benchmark/test1/validity/validity.ipynb#ch0000004vscode-remote?line=3'>4</a>\u001b[0m s\u001b[39m.\u001b[39mrtol \u001b[39m=\u001b[39m \u001b[39m1e-5\u001b[39m\n\u001b[1;32m      <a href='vscode-notebook-cell://ssh-remote%2B7b22686f73744e616d65223a224447582d6479636f6e762d646f636b6572227d/root/dynconv-performance-benchmark/test1/validity/validity.ipynb#ch0000004vscode-remote?line=4'>5</a>\u001b[0m s\u001b[39m.\u001b[39matol \u001b[39m=\u001b[39m \u001b[39m1e-3\u001b[39m\n\u001b[0;32m----> <a href='vscode-notebook-cell://ssh-remote%2B7b22686f73744e616d65223a224447582d6479636f6e762d646f636b6572227d/root/dynconv-performance-benchmark/test1/validity/validity.ipynb#ch0000004vscode-remote?line=5'>6</a>\u001b[0m s\u001b[39m.\u001b[39;49mautotune(refresh\u001b[39m=\u001b[39;49m\u001b[39mTrue\u001b[39;49;00m)\n\u001b[1;32m      <a href='vscode-notebook-cell://ssh-remote%2B7b22686f73744e616d65223a224447582d6479636f6e762d646f636b6572227d/root/dynconv-performance-benchmark/test1/validity/validity.ipynb#ch0000004vscode-remote?line=6'>7</a>\u001b[0m s\u001b[39m.\u001b[39mbuild(display\u001b[39m=\u001b[39m\u001b[39mFalse\u001b[39;00m)\n\u001b[1;32m      <a href='vscode-notebook-cell://ssh-remote%2B7b22686f73744e616d65223a224447582d6479636f6e762d646f636b6572227d/root/dynconv-performance-benchmark/test1/validity/validity.ipynb#ch0000004vscode-remote?line=7'>8</a>\u001b[0m s\u001b[39m.\u001b[39mcheck(runtype\u001b[39m=\u001b[39m\u001b[39m\"\u001b[39m\u001b[39mpytorch\u001b[39m\u001b[39m\"\u001b[39m)\n",
      "File \u001b[0;32m~/dynconv-performance-benchmark/layers/base.py:104\u001b[0m, in \u001b[0;36mBaseLayerScheduler.autotune\u001b[0;34m(self, refresh)\u001b[0m\n\u001b[1;32m     <a href='file:///~/dynconv-performance-benchmark/layers/base.py?line=97'>98</a>\u001b[0m measure_option \u001b[39m=\u001b[39m autotvm\u001b[39m.\u001b[39mmeasure_option(\n\u001b[1;32m     <a href='file:///~/dynconv-performance-benchmark/layers/base.py?line=98'>99</a>\u001b[0m     builder\u001b[39m=\u001b[39mautotvm\u001b[39m.\u001b[39mLocalBuilder(),\n\u001b[1;32m    <a href='file:///~/dynconv-performance-benchmark/layers/base.py?line=99'>100</a>\u001b[0m     runner\u001b[39m=\u001b[39mautotvm\u001b[39m.\u001b[39mLocalRunner(repeat\u001b[39m=\u001b[39m\u001b[39m3\u001b[39m, min_repeat_ms\u001b[39m=\u001b[39m\u001b[39m150\u001b[39m, timeout\u001b[39m=\u001b[39m\u001b[39m4\u001b[39m),\n\u001b[1;32m    <a href='file:///~/dynconv-performance-benchmark/layers/base.py?line=100'>101</a>\u001b[0m )\n\u001b[1;32m    <a href='file:///~/dynconv-performance-benchmark/layers/base.py?line=102'>103</a>\u001b[0m tuner \u001b[39m=\u001b[39m autotvm\u001b[39m.\u001b[39mtuner\u001b[39m.\u001b[39mXGBTuner(task)\n\u001b[0;32m--> <a href='file:///~/dynconv-performance-benchmark/layers/base.py?line=103'>104</a>\u001b[0m tuner\u001b[39m.\u001b[39;49mtune(\n\u001b[1;32m    <a href='file:///~/dynconv-performance-benchmark/layers/base.py?line=104'>105</a>\u001b[0m     n_trial\u001b[39m=\u001b[39;49m\u001b[39mself\u001b[39;49m\u001b[39m.\u001b[39;49mn_trial,\n\u001b[1;32m    <a href='file:///~/dynconv-performance-benchmark/layers/base.py?line=105'>106</a>\u001b[0m     measure_option\u001b[39m=\u001b[39;49mmeasure_option,\n\u001b[1;32m    <a href='file:///~/dynconv-performance-benchmark/layers/base.py?line=106'>107</a>\u001b[0m     callbacks\u001b[39m=\u001b[39;49m[autotvm\u001b[39m.\u001b[39;49mcallback\u001b[39m.\u001b[39;49mlog_to_file(\u001b[39mself\u001b[39;49m\u001b[39m.\u001b[39;49msave_path)],\n\u001b[1;32m    <a href='file:///~/dynconv-performance-benchmark/layers/base.py?line=107'>108</a>\u001b[0m )\n",
      "File \u001b[0;32m/usr/local/lib/python3.8/dist-packages/tvm-0.9.dev913+gae285c6f0-py3.8-linux-x86_64.egg/tvm/autotvm/tuner/xgboost_tuner.py:105\u001b[0m, in \u001b[0;36mXGBTuner.tune\u001b[0;34m(self, *args, **kwargs)\u001b[0m\n\u001b[1;32m    <a href='file:///usr/local/lib/python3.8/dist-packages/tvm-0.9.dev913%2Bgae285c6f0-py3.8-linux-x86_64.egg/tvm/autotvm/tuner/xgboost_tuner.py?line=103'>104</a>\u001b[0m \u001b[39mdef\u001b[39;00m \u001b[39mtune\u001b[39m(\u001b[39mself\u001b[39m, \u001b[39m*\u001b[39margs, \u001b[39m*\u001b[39m\u001b[39m*\u001b[39mkwargs):  \u001b[39m# pylint: disable=arguments-differ\u001b[39;00m\n\u001b[0;32m--> <a href='file:///usr/local/lib/python3.8/dist-packages/tvm-0.9.dev913%2Bgae285c6f0-py3.8-linux-x86_64.egg/tvm/autotvm/tuner/xgboost_tuner.py?line=104'>105</a>\u001b[0m     \u001b[39msuper\u001b[39;49m(XGBTuner, \u001b[39mself\u001b[39;49m)\u001b[39m.\u001b[39;49mtune(\u001b[39m*\u001b[39;49margs, \u001b[39m*\u001b[39;49m\u001b[39m*\u001b[39;49mkwargs)\n\u001b[1;32m    <a href='file:///usr/local/lib/python3.8/dist-packages/tvm-0.9.dev913%2Bgae285c6f0-py3.8-linux-x86_64.egg/tvm/autotvm/tuner/xgboost_tuner.py?line=106'>107</a>\u001b[0m     \u001b[39m# manually close pool to avoid multiprocessing issues\u001b[39;00m\n\u001b[1;32m    <a href='file:///usr/local/lib/python3.8/dist-packages/tvm-0.9.dev913%2Bgae285c6f0-py3.8-linux-x86_64.egg/tvm/autotvm/tuner/xgboost_tuner.py?line=107'>108</a>\u001b[0m     \u001b[39mself\u001b[39m\u001b[39m.\u001b[39mcost_model\u001b[39m.\u001b[39m_close_pool()\n",
      "File \u001b[0;32m/usr/local/lib/python3.8/dist-packages/tvm-0.9.dev913+gae285c6f0-py3.8-linux-x86_64.egg/tvm/autotvm/tuner/tuner.py:134\u001b[0m, in \u001b[0;36mTuner.tune\u001b[0;34m(self, n_trial, measure_option, early_stopping, callbacks, si_prefix)\u001b[0m\n\u001b[1;32m    <a href='file:///usr/local/lib/python3.8/dist-packages/tvm-0.9.dev913%2Bgae285c6f0-py3.8-linux-x86_64.egg/tvm/autotvm/tuner/tuner.py?line=130'>131</a>\u001b[0m configs \u001b[39m=\u001b[39m \u001b[39mself\u001b[39m\u001b[39m.\u001b[39mnext_batch(\u001b[39mmin\u001b[39m(n_parallel, n_trial \u001b[39m-\u001b[39m i))\n\u001b[1;32m    <a href='file:///usr/local/lib/python3.8/dist-packages/tvm-0.9.dev913%2Bgae285c6f0-py3.8-linux-x86_64.egg/tvm/autotvm/tuner/tuner.py?line=132'>133</a>\u001b[0m inputs \u001b[39m=\u001b[39m [MeasureInput(\u001b[39mself\u001b[39m\u001b[39m.\u001b[39mtask\u001b[39m.\u001b[39mtarget, \u001b[39mself\u001b[39m\u001b[39m.\u001b[39mtask, config) \u001b[39mfor\u001b[39;00m config \u001b[39min\u001b[39;00m configs]\n\u001b[0;32m--> <a href='file:///usr/local/lib/python3.8/dist-packages/tvm-0.9.dev913%2Bgae285c6f0-py3.8-linux-x86_64.egg/tvm/autotvm/tuner/tuner.py?line=133'>134</a>\u001b[0m results \u001b[39m=\u001b[39m measure_batch(inputs)\n\u001b[1;32m    <a href='file:///usr/local/lib/python3.8/dist-packages/tvm-0.9.dev913%2Bgae285c6f0-py3.8-linux-x86_64.egg/tvm/autotvm/tuner/tuner.py?line=135'>136</a>\u001b[0m \u001b[39m# keep best config\u001b[39;00m\n\u001b[1;32m    <a href='file:///usr/local/lib/python3.8/dist-packages/tvm-0.9.dev913%2Bgae285c6f0-py3.8-linux-x86_64.egg/tvm/autotvm/tuner/tuner.py?line=136'>137</a>\u001b[0m \u001b[39mfor\u001b[39;00m k, (inp, res) \u001b[39min\u001b[39;00m \u001b[39menumerate\u001b[39m(\u001b[39mzip\u001b[39m(inputs, results)):\n",
      "File \u001b[0;32m/usr/local/lib/python3.8/dist-packages/tvm-0.9.dev913+gae285c6f0-py3.8-linux-x86_64.egg/tvm/autotvm/measure/measure.py:291\u001b[0m, in \u001b[0;36mcreate_measure_batch.<locals>.measure_batch\u001b[0;34m(measure_inputs)\u001b[0m\n\u001b[1;32m    <a href='file:///usr/local/lib/python3.8/dist-packages/tvm-0.9.dev913%2Bgae285c6f0-py3.8-linux-x86_64.egg/tvm/autotvm/measure/measure.py?line=288'>289</a>\u001b[0m \u001b[39mdef\u001b[39;00m \u001b[39mmeasure_batch\u001b[39m(measure_inputs):\n\u001b[1;32m    <a href='file:///usr/local/lib/python3.8/dist-packages/tvm-0.9.dev913%2Bgae285c6f0-py3.8-linux-x86_64.egg/tvm/autotvm/measure/measure.py?line=289'>290</a>\u001b[0m     build_results \u001b[39m=\u001b[39m builder\u001b[39m.\u001b[39mbuild(measure_inputs)\n\u001b[0;32m--> <a href='file:///usr/local/lib/python3.8/dist-packages/tvm-0.9.dev913%2Bgae285c6f0-py3.8-linux-x86_64.egg/tvm/autotvm/measure/measure.py?line=290'>291</a>\u001b[0m     results \u001b[39m=\u001b[39m runner\u001b[39m.\u001b[39;49mrun(measure_inputs, build_results)\n\u001b[1;32m    <a href='file:///usr/local/lib/python3.8/dist-packages/tvm-0.9.dev913%2Bgae285c6f0-py3.8-linux-x86_64.egg/tvm/autotvm/measure/measure.py?line=291'>292</a>\u001b[0m     \u001b[39mreturn\u001b[39;00m results\n",
      "File \u001b[0;32m/usr/local/lib/python3.8/dist-packages/tvm-0.9.dev913+gae285c6f0-py3.8-linux-x86_64.egg/tvm/autotvm/measure/measure_methods.py:390\u001b[0m, in \u001b[0;36mRPCRunner.run\u001b[0;34m(self, measure_inputs, build_results)\u001b[0m\n\u001b[1;32m    <a href='file:///usr/local/lib/python3.8/dist-packages/tvm-0.9.dev913%2Bgae285c6f0-py3.8-linux-x86_64.egg/tvm/autotvm/measure/measure_methods.py?line=387'>388</a>\u001b[0m \u001b[39mfor\u001b[39;00m future \u001b[39min\u001b[39;00m futures:\n\u001b[1;32m    <a href='file:///usr/local/lib/python3.8/dist-packages/tvm-0.9.dev913%2Bgae285c6f0-py3.8-linux-x86_64.egg/tvm/autotvm/measure/measure_methods.py?line=388'>389</a>\u001b[0m     \u001b[39mtry\u001b[39;00m:\n\u001b[0;32m--> <a href='file:///usr/local/lib/python3.8/dist-packages/tvm-0.9.dev913%2Bgae285c6f0-py3.8-linux-x86_64.egg/tvm/autotvm/measure/measure_methods.py?line=389'>390</a>\u001b[0m         res \u001b[39m=\u001b[39m future\u001b[39m.\u001b[39;49mresult()\n\u001b[1;32m    <a href='file:///usr/local/lib/python3.8/dist-packages/tvm-0.9.dev913%2Bgae285c6f0-py3.8-linux-x86_64.egg/tvm/autotvm/measure/measure_methods.py?line=390'>391</a>\u001b[0m         results\u001b[39m.\u001b[39mappend(res)\n\u001b[1;32m    <a href='file:///usr/local/lib/python3.8/dist-packages/tvm-0.9.dev913%2Bgae285c6f0-py3.8-linux-x86_64.egg/tvm/autotvm/measure/measure_methods.py?line=391'>392</a>\u001b[0m     \u001b[39mexcept\u001b[39;00m \u001b[39mException\u001b[39;00m \u001b[39mas\u001b[39;00m ex:  \u001b[39m# pylint: disable=broad-except\u001b[39;00m\n",
      "File \u001b[0;32m/usr/lib/python3.8/concurrent/futures/_base.py:434\u001b[0m, in \u001b[0;36mFuture.result\u001b[0;34m(self, timeout)\u001b[0m\n\u001b[1;32m    <a href='file:///usr/lib/python3.8/concurrent/futures/_base.py?line=430'>431</a>\u001b[0m \u001b[39melif\u001b[39;00m \u001b[39mself\u001b[39m\u001b[39m.\u001b[39m_state \u001b[39m==\u001b[39m FINISHED:\n\u001b[1;32m    <a href='file:///usr/lib/python3.8/concurrent/futures/_base.py?line=431'>432</a>\u001b[0m     \u001b[39mreturn\u001b[39;00m \u001b[39mself\u001b[39m\u001b[39m.\u001b[39m__get_result()\n\u001b[0;32m--> <a href='file:///usr/lib/python3.8/concurrent/futures/_base.py?line=433'>434</a>\u001b[0m \u001b[39mself\u001b[39;49m\u001b[39m.\u001b[39;49m_condition\u001b[39m.\u001b[39;49mwait(timeout)\n\u001b[1;32m    <a href='file:///usr/lib/python3.8/concurrent/futures/_base.py?line=435'>436</a>\u001b[0m \u001b[39mif\u001b[39;00m \u001b[39mself\u001b[39m\u001b[39m.\u001b[39m_state \u001b[39min\u001b[39;00m [CANCELLED, CANCELLED_AND_NOTIFIED]:\n\u001b[1;32m    <a href='file:///usr/lib/python3.8/concurrent/futures/_base.py?line=436'>437</a>\u001b[0m     \u001b[39mraise\u001b[39;00m CancelledError()\n",
      "File \u001b[0;32m/usr/lib/python3.8/threading.py:302\u001b[0m, in \u001b[0;36mCondition.wait\u001b[0;34m(self, timeout)\u001b[0m\n\u001b[1;32m    <a href='file:///usr/lib/python3.8/threading.py?line=299'>300</a>\u001b[0m \u001b[39mtry\u001b[39;00m:    \u001b[39m# restore state no matter what (e.g., KeyboardInterrupt)\u001b[39;00m\n\u001b[1;32m    <a href='file:///usr/lib/python3.8/threading.py?line=300'>301</a>\u001b[0m     \u001b[39mif\u001b[39;00m timeout \u001b[39mis\u001b[39;00m \u001b[39mNone\u001b[39;00m:\n\u001b[0;32m--> <a href='file:///usr/lib/python3.8/threading.py?line=301'>302</a>\u001b[0m         waiter\u001b[39m.\u001b[39;49macquire()\n\u001b[1;32m    <a href='file:///usr/lib/python3.8/threading.py?line=302'>303</a>\u001b[0m         gotit \u001b[39m=\u001b[39m \u001b[39mTrue\u001b[39;00m\n\u001b[1;32m    <a href='file:///usr/lib/python3.8/threading.py?line=303'>304</a>\u001b[0m     \u001b[39melse\u001b[39;00m:\n",
      "\u001b[0;31mKeyboardInterrupt\u001b[0m: "
     ]
    }
   ],
   "source": [
    "# test conv dense scheduler\n",
    "s = ConvDenseScheduler(128, 512, 64, 3, \"log/conv3x3_dense.log\")\n",
    "s.n_trial = 50\n",
    "s.rtol = 1e-5\n",
    "s.atol = 1e-3\n",
    "s.autotune(refresh=True)\n",
    "s.build(display=False)\n",
    "s.check(runtype=\"pytorch\")\n",
    "s.evaluate()"
   ]
  },
  {
   "cell_type": "code",
   "execution_count": null,
   "metadata": {},
   "outputs": [
    {
     "data": {
      "text/plain": [
       "0.00020397229"
      ]
     },
     "execution_count": 3,
     "metadata": {},
     "output_type": "execute_result"
    }
   ],
   "source": [
    "# test conv dense scheduler\n",
    "s = ConvDenseScheduler(128, 512, 64, 1, \"log/conv1x1_dense.log\")\n",
    "s.n_trial = 50\n",
    "s.rtol = 1e-5\n",
    "s.atol = 1e-3\n",
    "s.autotune(refresh=True)\n",
    "s.build(display=False)\n",
    "s.check(runtype=\"pytorch\")\n",
    "s.evaluate()"
   ]
  },
  {
   "cell_type": "code",
   "execution_count": null,
   "metadata": {},
   "outputs": [
    {
     "data": {
      "text/plain": [
       "2.348793e-05"
      ]
     },
     "execution_count": 5,
     "metadata": {},
     "output_type": "execute_result"
    }
   ],
   "source": [
    "# test conv1x1 gathered scheduler\n",
    "s = Conv1x1GatheredScheduler(512, 128, 128, 2, \"log/conv1x1_gathered.log\")\n",
    "s.n_trial = 50\n",
    "s.rtol = 1e-5\n",
    "s.atol = 1e-3\n",
    "s.autotune(refresh=True)\n",
    "s.build(display=False)\n",
    "s.check(runtype=\"pytorch\")\n",
    "s.evaluate()"
   ]
  },
  {
   "cell_type": "code",
   "execution_count": null,
   "metadata": {},
   "outputs": [
    {
     "name": "stderr",
     "output_type": "stream",
     "text": [
      "/usr/local/lib/python3.8/dist-packages/xgboost/compat.py:36: FutureWarning: pandas.Int64Index is deprecated and will be removed from pandas in a future version. Use pandas.Index with the appropriate dtype instead.\n",
      "  from pandas import MultiIndex, Int64Index\n"
     ]
    },
    {
     "data": {
      "text/plain": [
       "9.848044e-05"
      ]
     },
     "execution_count": 2,
     "metadata": {},
     "output_type": "execute_result"
    }
   ],
   "source": [
    "# test scatter add\n",
    "s = ScatterAddScheduler(64, 512, 128, 2, \"log/scatter_add.log\")\n",
    "s.n_trial = 10\n",
    "s.autotune(refresh=True)\n",
    "s.build(display=False)\n",
    "s.check()\n",
    "s.evaluate()"
   ]
  },
  {
   "cell_type": "code",
   "execution_count": null,
   "metadata": {},
   "outputs": [
    {
     "data": {
      "text/plain": [
       "0.0005954454"
      ]
     },
     "execution_count": 5,
     "metadata": {},
     "output_type": "execute_result"
    }
   ],
   "source": [
    "# test conv3x3 gathered scheduler\n",
    "s = Conv3x3GatheredScheduler(512, 4, 128, 2, \"log/conv3x3_gathered.log\")\n",
    "s.n_trial = 50\n",
    "s.rtol = 1e-5\n",
    "s.atol = 1e-3\n",
    "s.autotune(refresh=True)\n",
    "s.build(display=False)\n",
    "s.check(runtype=\"pytorch\")\n",
    "s.evaluate()"
   ]
  },
  {
   "cell_type": "code",
   "execution_count": null,
   "metadata": {},
   "outputs": [
    {
     "name": "stderr",
     "output_type": "stream",
     "text": [
      "/usr/local/lib/python3.8/dist-packages/xgboost/compat.py:36: FutureWarning: pandas.Int64Index is deprecated and will be removed from pandas in a future version. Use pandas.Index with the appropriate dtype instead.\n",
      "  from pandas import MultiIndex, Int64Index\n"
     ]
    },
    {
     "data": {
      "text/plain": [
       "2.398621e-05"
      ]
     },
     "execution_count": 3,
     "metadata": {},
     "output_type": "execute_result"
    }
   ],
   "source": [
    "# test gather scheduler\n",
    "s = GatherScheduler(64, 512, 128, 2, \"log/gather.log\")\n",
    "s.n_trial = 10\n",
    "s.autotune(refresh=True)\n",
    "s.build(display=False)\n",
    "s.check()\n",
    "s.evaluate()"
   ]
  },
  {
   "cell_type": "code",
   "execution_count": null,
   "metadata": {},
   "outputs": [],
   "source": []
  }
 ],
 "metadata": {
  "interpreter": {
   "hash": "31f2aee4e71d21fbe5cf8b01ff0e069b9275f58929596ceb00d14d90e3e16cd6"
  },
  "kernelspec": {
   "display_name": "Python 3.8.0 64-bit",
   "language": "python",
   "name": "python3"
  },
  "language_info": {
   "codemirror_mode": {
    "name": "ipython",
    "version": 3
   },
   "file_extension": ".py",
   "mimetype": "text/x-python",
   "name": "python",
   "nbconvert_exporter": "python",
   "pygments_lexer": "ipython3",
   "version": "3.8.0"
  },
  "orig_nbformat": 4
 },
 "nbformat": 4,
 "nbformat_minor": 2
}
