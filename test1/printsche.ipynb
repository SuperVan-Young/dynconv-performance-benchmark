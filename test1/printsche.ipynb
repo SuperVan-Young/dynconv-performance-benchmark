{
 "cells": [
  {
   "cell_type": "code",
   "execution_count": 3,
   "metadata": {},
   "outputs": [],
   "source": [
    "import os\n",
    "import sys\n",
    "import tvm\n",
    "from tvm import autotvm\n",
    "sys.path.append(\"..\")\n",
    "sys.path.append(\".\")\n",
    "\n",
    "logdir = \"log_sche\"\n",
    "if not os.path.exists(logdir):\n",
    "    os.mkdir(logdir)"
   ]
  },
  {
   "cell_type": "code",
   "execution_count": 5,
   "metadata": {},
   "outputs": [],
   "source": [
    "from test_dense import *\n",
    "\n",
    "ss = [0.2, 0.4, 0.6, 0.8]\n",
    "\n",
    "channels, group = regnet_parameters(\"008\")\n",
    "for i in reversed(range(4)):\n",
    "    width = widths[i]\n",
    "    channel = channels[i]\n",
    "    n_trial = 300 if not DEBUG else 10  # no refreshing, so 4 processes are cooperating\n",
    "\n",
    "    logpath = logdir + f\"/c{channel}_w{width}_g{group}\"\n",
    "    if not os.path.exists(logpath):\n",
    "        os.mkdir(logpath)\n",
    "    \n",
    "    bs = TVMDynamicBlockEvaluator(channel, width, group, f\"log_dense/c{channel}_w{width}_g{group}\", n_trial=n_trial)\n",
    "    bs.setup()\n",
    "\n",
    "    # print schedule to log_sche\n",
    "    for name, layer in bs.layers.items():\n",
    "        with autotvm.apply_history_best(layer.save_path):\n",
    "            with tvm.target.Target(layer.target):\n",
    "                s, arg_bufs = layer._schedule\n",
    "                layer.func = tvm.build(s, arg_bufs)\n",
    "                with open(logpath + f\"/{name}.txt\", \"w\") as f:\n",
    "                    f.write(tvm.lower(s, arg_bufs, simple_mode=True).__repr__())\n",
    "\n",
    "    factors = get_factors(width)\n",
    "    for g in factors:\n",
    "        for s in ss:\n",
    "            sl = int(s * ((width // g) ** 2))\n",
    "            if sl == 0:\n",
    "                continue\n",
    "            logpath_sparse = logpath + f\"/l{sl}_m{g}\"\n",
    "            if not os.path.exists(logpath_sparse):\n",
    "                os.mkdir(logpath_sparse)\n",
    "\n",
    "            bs.setup_sparse(sl, g, True, True, True)\n",
    "            # print sparse schedules' to log_sche\n",
    "            for name, layer in bs.sparse_layers.items():\n",
    "                with autotvm.apply_history_best(layer.save_path):\n",
    "                    with tvm.target.Target(layer.target):\n",
    "                        s, arg_bufs = layer._schedule\n",
    "                        layer.func = tvm.build(s, arg_bufs)\n",
    "                        with open(logpath_sparse + f\"/{name}.txt\", \"w\") as f:\n",
    "                            f.write(tvm.lower(s, arg_bufs, simple_mode=True).__repr__())"
   ]
  },
  {
   "cell_type": "code",
   "execution_count": null,
   "metadata": {},
   "outputs": [],
   "source": []
  }
 ],
 "metadata": {
  "interpreter": {
   "hash": "31f2aee4e71d21fbe5cf8b01ff0e069b9275f58929596ceb00d14d90e3e16cd6"
  },
  "kernelspec": {
   "display_name": "Python 3.8.0 64-bit",
   "language": "python",
   "name": "python3"
  },
  "language_info": {
   "codemirror_mode": {
    "name": "ipython",
    "version": 3
   },
   "file_extension": ".py",
   "mimetype": "text/x-python",
   "name": "python",
   "nbconvert_exporter": "python",
   "pygments_lexer": "ipython3",
   "version": "3.8.0"
  },
  "orig_nbformat": 4
 },
 "nbformat": 4,
 "nbformat_minor": 2
}
